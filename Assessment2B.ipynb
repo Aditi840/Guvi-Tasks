{
  "cells": [
    {
      "cell_type": "markdown",
      "metadata": {
        "id": "view-in-github",
        "colab_type": "text"
      },
      "source": [
        "<a href=\"https://colab.research.google.com/github/Aditi840/Guvi-Tasks/blob/main/Assessment2B.ipynb\" target=\"_parent\"><img src=\"https://colab.research.google.com/assets/colab-badge.svg\" alt=\"Open In Colab\"/></a>"
      ]
    },
    {
      "cell_type": "markdown",
      "metadata": {
        "id": "Qe7Z5GbfAagZ"
      },
      "source": [
        "###### Assessment"
      ]
    },
    {
      "cell_type": "markdown",
      "metadata": {
        "id": "weTZ0AQ5Aagb"
      },
      "source": [
        "###### I am going to provide two .csv files , you are supposed to work on them and have to provide solutions to the following problems"
      ]
    },
    {
      "cell_type": "markdown",
      "metadata": {
        "id": "MA_KQtUKAagb"
      },
      "source": [
        "###### import necessary libraries"
      ]
    },
    {
      "cell_type": "code",
      "execution_count": 15,
      "metadata": {
        "id": "27KzNcOIAagc"
      },
      "outputs": [],
      "source": [
        "import pandas as pd\n",
        "import numpy as np\n",
        "import matplotlib.pyplot as plt"
      ]
    },
    {
      "cell_type": "markdown",
      "metadata": {
        "id": "zPgqAyoSAagd"
      },
      "source": [
        "###### merge those two csv files (after getting as dataframes, get them as a single dataframe)"
      ]
    },
    {
      "cell_type": "code",
      "execution_count": 6,
      "metadata": {
        "colab": {
          "base_uri": "https://localhost:8080/"
        },
        "id": "O6keFZPcAagd",
        "outputId": "0f497a58-6a8d-41ba-c01d-d3cd97dd3c5f"
      },
      "outputs": [
        {
          "output_type": "stream",
          "name": "stdout",
          "text": [
            "             Name  python  mysql  Previous Geekions  CodeKata Score  \\\n",
            "0       A.Dharani    82.0   20.0              24500           24500   \n",
            "1     V.JEEVITHA     82.0   20.0              21740           21740   \n",
            "2     HEMAVATHI.R   100.0  100.0              19680           19680   \n",
            "3     Mugunthan S   100.0   47.0              10610           10610   \n",
            "4     Sathammai.S   100.0    8.0               8980            8980   \n",
            "..            ...     ...    ...                ...             ...   \n",
            "30  praveen raj j    24.0    0.0               2380            2380   \n",
            "31     AMARNATH D    -1.0   12.0               1890            1890   \n",
            "32           bala    32.0    0.0               1720            1720   \n",
            "33           XY Z    -1.0   -1.0                  0               0   \n",
            "34      Hariharan    -1.0   -1.0                  0               0   \n",
            "\n",
            "                                   Department  Rising  python_en  \\\n",
            "0            Computer Science and Engineering       0        NaN   \n",
            "1            Computer Science and Engineering       0        NaN   \n",
            "2            Computer Science and Engineering       0        NaN   \n",
            "3            Computer Science and Engineering       0        NaN   \n",
            "4            Computer Science and Engineering       0        NaN   \n",
            "..                                        ...     ...        ...   \n",
            "30           Computer Science and Engineering       0       -1.0   \n",
            "31  Electronics and Communication Engineering       0       52.0   \n",
            "32  Electronics and Communication Engineering       0       49.0   \n",
            "33           Computer Science and Engineering       0       20.0   \n",
            "34           Computer Science and Engineering       0       -1.0   \n",
            "\n",
            "    computational_thinking  \n",
            "0                      NaN  \n",
            "1                      NaN  \n",
            "2                      NaN  \n",
            "3                      NaN  \n",
            "4                      NaN  \n",
            "..                     ...  \n",
            "30                     0.0  \n",
            "31                    -1.0  \n",
            "32                    -1.0  \n",
            "33                    -1.0  \n",
            "34                     0.0  \n",
            "\n",
            "[119 rows x 9 columns]\n",
            "Index(['Name', 'python', 'mysql', 'Previous Geekions', 'CodeKata Score',\n",
            "       'Department', 'Rising', 'python_en', 'computational_thinking'],\n",
            "      dtype='object')\n"
          ]
        }
      ],
      "source": [
        "df1 = pd.read_csv(\"/content/college_1.csv\")\n",
        "df2 = pd.read_csv(\"/content/college_2.csv\")\n",
        "df = pd.concat([df1,df2])\n",
        "print(df)\n",
        "print(df.columns)"
      ]
    },
    {
      "cell_type": "markdown",
      "metadata": {
        "id": "MEBNFWpbAage"
      },
      "source": [
        "###### Take each csv file , split that csv file into multiple categories (example csv files are added in the repo) \n"
      ]
    },
    {
      "cell_type": "markdown",
      "metadata": {
        "id": "pRNHcrDTAage"
      },
      "source": [
        "###### consider if the codekata score exceeds 15000 points(present week) then make a csv on those observations as Exceeded expectations.csv\n"
      ]
    },
    {
      "cell_type": "markdown",
      "metadata": {
        "id": "zDiBrrtbAagf"
      },
      "source": [
        "###### if  10000<codekata score<15000   (Reached_expectations.csv)\n",
        "\n"
      ]
    },
    {
      "cell_type": "markdown",
      "metadata": {
        "id": "ADvgq4f_Aagf"
      },
      "source": [
        "###### if  7000<codekata score<10000   (Needs_Improvement.csv)\n"
      ]
    },
    {
      "cell_type": "markdown",
      "metadata": {
        "id": "YAkXOQo3Aagg"
      },
      "source": [
        "###### if  codekate score < 7000        (Unsatisfactory.csv)"
      ]
    },
    {
      "cell_type": "code",
      "execution_count": 8,
      "metadata": {
        "id": "zhSY5G0jAagg"
      },
      "outputs": [],
      "source": [
        "exceeded_expectations = df[df['CodeKata Score'] > 15000]\n",
        "reached_expetations = df[(df['CodeKata Score'] > 10000) & (df['CodeKata Score'] <= 15000)]\n",
        "needs_improvement = df[(df['CodeKata Score'] > 7000) & (df['CodeKata Score'] <= 10000)]\n",
        "unsatisfactory = df[df['CodeKata Score'] <= 7000]"
      ]
    },
    {
      "cell_type": "code",
      "execution_count": 9,
      "metadata": {
        "id": "svDHbcC7Aagg"
      },
      "outputs": [],
      "source": [
        "exceeded_expectations.to_csv('Exceeded_expectations.csv', index=False)\n",
        "reached_expetations.to_csv('Reached_expectations.csv', index=False)\n",
        "needs_improvement.to_csv('Needs_Improvement.csv', index=False)\n",
        "unsatisfactory.to_csv('Unsatisfactory.csv', index=False)"
      ]
    },
    {
      "cell_type": "markdown",
      "metadata": {
        "id": "Kjhw4QA-Aagg"
      },
      "source": [
        "###### Average of previous week geekions vs this week geekions (i.e Previous Geekions vs CodeKata Score)"
      ]
    },
    {
      "cell_type": "code",
      "execution_count": 10,
      "metadata": {
        "colab": {
          "base_uri": "https://localhost:8080/"
        },
        "id": "jol9FlFMAagh",
        "outputId": "0d7a99de-3263-4853-d504-15668afdef56"
      },
      "outputs": [
        {
          "output_type": "stream",
          "name": "stdout",
          "text": [
            "3842.3529411764707\n",
            "4051.764705882353\n"
          ]
        }
      ],
      "source": [
        "previous_geekcoins = df['Previous Geekions'].mean()\n",
        "this_week_geekcoins = df['CodeKata Score'].mean()\n",
        "print(previous_geekcoins)\n",
        "print(this_week_geekcoins)"
      ]
    },
    {
      "cell_type": "markdown",
      "metadata": {
        "id": "erxBJdcuAagh"
      },
      "source": [
        "###### No of students participated "
      ]
    },
    {
      "cell_type": "code",
      "execution_count": 11,
      "metadata": {
        "colab": {
          "base_uri": "https://localhost:8080/"
        },
        "id": "cVb56Cy8Aagh",
        "outputId": "cc7ae257-45d9-47e9-fad0-1521b96f158d"
      },
      "outputs": [
        {
          "output_type": "stream",
          "name": "stdout",
          "text": [
            "119\n"
          ]
        }
      ],
      "source": [
        "num_participants = len(df)\n",
        "print(num_participants)"
      ]
    },
    {
      "cell_type": "markdown",
      "metadata": {
        "id": "3-tqf-c2Aagh"
      },
      "source": [
        "###### #Average completion of python course or my_sql or python english or computational thinking"
      ]
    },
    {
      "cell_type": "code",
      "execution_count": 12,
      "metadata": {
        "colab": {
          "base_uri": "https://localhost:8080/"
        },
        "id": "EhZFGsbfAagh",
        "outputId": "3cf886bf-5f94-4955-877d-cb17afc9b44e"
      },
      "outputs": [
        {
          "output_type": "stream",
          "name": "stdout",
          "text": [
            "54.35294117647059\n",
            "23.5\n",
            "29.65714285714286\n",
            "2.2\n"
          ]
        }
      ],
      "source": [
        "python_avg = df['python'].mean()\n",
        "mysql_avg = df['mysql'].mean()\n",
        "python_en_avg = df['python_en'].mean()\n",
        "computational_thinking_avg = df['computational_thinking'].mean()\n",
        "print(python_avg)\n",
        "print(mysql_avg)\n",
        "print(python_en_avg)\n",
        "print(computational_thinking_avg)"
      ]
    },
    {
      "cell_type": "markdown",
      "metadata": {
        "id": "q_ALmep0Aagi"
      },
      "source": [
        "###### rising star of the week (top 3 candidate who performed well in that particular week)"
      ]
    },
    {
      "cell_type": "code",
      "execution_count": 13,
      "metadata": {
        "colab": {
          "base_uri": "https://localhost:8080/"
        },
        "id": "1JS657BpAagi",
        "outputId": "aefa07cb-6eaf-4df5-cc83-c372ec1313da"
      },
      "outputs": [
        {
          "output_type": "stream",
          "name": "stdout",
          "text": [
            "Rising stars of the week (based on difference in CodeKata score):\n",
            "8              shifak N\n",
            "18       Narasimhan Y L\n",
            "2     Ganesh Ramkumar R\n",
            "Name: Name, dtype: object\n"
          ]
        }
      ],
      "source": [
        "df['Score Diff'] = df['CodeKata Score'] - df['Previous Geekions']\n",
        "top_performers = df.sort_values('Score Diff', ascending=False).head(3)\n",
        "print('Rising stars of the week (based on difference in CodeKata score):')\n",
        "print(top_performers['Name'])"
      ]
    },
    {
      "cell_type": "markdown",
      "metadata": {
        "id": "KXxY3g94Aagi"
      },
      "source": [
        "###### Shining stars of the week (top 3 candidates who has highest geekions)"
      ]
    },
    {
      "cell_type": "code",
      "execution_count": 14,
      "metadata": {
        "colab": {
          "base_uri": "https://localhost:8080/"
        },
        "id": "1cTwF1GUAagi",
        "outputId": "37f1eeb0-5c0e-409d-8863-5b45776902c2"
      },
      "outputs": [
        {
          "output_type": "stream",
          "name": "stdout",
          "text": [
            "Shining stars of the week (based on CodeKata score):\n",
            "0      A.Dharani\n",
            "1    V.JEEVITHA \n",
            "2    HEMAVATHI.R\n",
            "Name: Name, dtype: object\n"
          ]
        }
      ],
      "source": [
        "top_performers = df.sort_values('CodeKata Score', ascending=False).head(3)\n",
        "print('Shining stars of the week (based on CodeKata score):')\n",
        "print(top_performers['Name'])"
      ]
    },
    {
      "cell_type": "markdown",
      "metadata": {
        "id": "wKTKi64XAagi"
      },
      "source": [
        "###### Department wise codekata performence (pie chart)"
      ]
    },
    {
      "cell_type": "code",
      "execution_count": 16,
      "metadata": {
        "colab": {
          "base_uri": "https://localhost:8080/",
          "height": 428
        },
        "id": "sFVjvqgJAagj",
        "outputId": "156ab041-8f71-49df-a301-53eab5f7d7c5"
      },
      "outputs": [
        {
          "output_type": "display_data",
          "data": {
            "text/plain": [
              "<Figure size 640x480 with 1 Axes>"
            ],
            "image/png": "[encoded data removed]"
          },
          "metadata": {}
        }
      ],
      "source": [
        "dept_scores = df.groupby('Department')['CodeKata Score'].sum()\n",
        "plt.pie(dept_scores.values, labels=dept_scores.index, autopct = '%1.1f%%')\n",
        "plt.title('Department-Wise CodeKata Toppers')\n",
        "plt.show()"
      ]
    },
    {
      "cell_type": "markdown",
      "metadata": {
        "id": "JWroPeBmAagj"
      },
      "source": [
        "###### Department wise toppers (horizantal bar graph or any visual representations of your choice)"
      ]
    },
    {
      "cell_type": "code",
      "execution_count": 19,
      "metadata": {
        "colab": {
          "base_uri": "https://localhost:8080/",
          "height": 564
        },
        "id": "2zA6JIcOAagj",
        "outputId": "87ced888-8c24-450a-a953-2b30e299216b"
      },
      "outputs": [
        {
          "output_type": "display_data",
          "data": {
            "text/plain": [
              "<Figure size 800x600 with 1 Axes>"
            ],
            "image/png": "[encoded data removed]"
          },
          "metadata": {}
        }
      ],
      "source": [
        "max_scores = df.groupby('Department')['CodeKata Score'].max()\n",
        "sorted_departments = max_scores.sort_values(ascending=False).index\n",
        "fig, ax = plt.subplots(figsize=(8,6))\n",
        "ax.barh(sorted_departments, max_scores[sorted_departments], color='blue')\n",
        "ax.set_xlabel('CodeKata Score')\n",
        "ax.set_title('Department-Wise Toppers')\n",
        "plt.show()"
      ]
    },
    {
      "cell_type": "code",
      "execution_count": null,
      "metadata": {
        "id": "W0dQetCDAagj"
      },
      "outputs": [],
      "source": []
    },
    {
      "cell_type": "code",
      "execution_count": null,
      "metadata": {
        "id": "rbaBFmHaAagj"
      },
      "outputs": [],
      "source": []
    },
    {
      "cell_type": "code",
      "execution_count": null,
      "metadata": {
        "id": "fBACRNkjAagj"
      },
      "outputs": [],
      "source": []
    }
  ],
  "metadata": {
    "kernelspec": {
      "display_name": "Python 3",
      "language": "python",
      "name": "python3"
    },
    "language_info": {
      "codemirror_mode": {
        "name": "ipython",
        "version": 3
      },
      "file_extension": ".py",
      "mimetype": "text/x-python",
      "name": "python",
      "nbconvert_exporter": "python",
      "pygments_lexer": "ipython3",
      "version": "3.8.3"
    },
    "colab": {
      "provenance": [],
      "include_colab_link": true
    }
  },
  "nbformat": 4,
  "nbformat_minor": 0
}
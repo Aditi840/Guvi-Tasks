{
  "nbformat": 4,
  "nbformat_minor": 0,
  "metadata": {
    "colab": {
      "provenance": [],
      "include_colab_link": true
    },
    "kernelspec": {
      "name": "python3",
      "display_name": "Python 3"
    },
    "language_info": {
      "name": "python"
    }
  },
  "cells": [
    {
      "cell_type": "markdown",
      "metadata": {
        "id": "view-in-github",
        "colab_type": "text"
      },
      "source": [
        "<a href=\"https://colab.research.google.com/github/Aditi840/Guvi-Tasks/blob/main/DataPreprocessing_Assignment11_(1).ipynb\" target=\"_parent\"><img src=\"https://colab.research.google.com/assets/colab-badge.svg\" alt=\"Open In Colab\"/></a>"
      ]
    },
    {
      "cell_type": "code",
      "metadata": {
        "id": "IUjqX9hqbb-6"
      },
      "source": [
        "#Data.csv"
      ],
      "execution_count": null,
      "outputs": []
    },
    {
      "cell_type": "markdown",
      "metadata": {
        "id": "AketbKR7cAaF"
      },
      "source": [
        "**Step 1: Importing the libraries**"
      ]
    },
    {
      "cell_type": "code",
      "metadata": {
        "id": "_ApieS21bdbN"
      },
      "source": [
        "import pandas as pd\n",
        "import numpy as np\n",
        "from sklearn.preprocessing import LabelEncoder\n",
        "from sklearn.model_selection import train_test_split\n",
        "from sklearn.preprocessing import StandardScaler"
      ],
      "execution_count": 20,
      "outputs": []
    },
    {
      "cell_type": "markdown",
      "metadata": {
        "id": "Gq1_kSwHcH4n"
      },
      "source": [
        "**Step 2: Importing dataset**"
      ]
    },
    {
      "cell_type": "code",
      "metadata": {
        "id": "HefV9KfcbdoE"
      },
      "source": [
        "df = pd.read_csv('/content/Data.csv')"
      ],
      "execution_count": 11,
      "outputs": []
    },
    {
      "cell_type": "code",
      "source": [
        "print(df)\n",
        "print(df.columns)"
      ],
      "metadata": {
        "id": "OYiTyf_657Yr",
        "outputId": "75ac3712-8539-4d62-cda8-af784fabddc8",
        "colab": {
          "base_uri": "https://localhost:8080/"
        }
      },
      "execution_count": 12,
      "outputs": [
        {
          "output_type": "stream",
          "name": "stdout",
          "text": [
            "   Country   Age   Salary Purchased\n",
            "0   France  44.0  72000.0        No\n",
            "1    Spain  27.0  48000.0       Yes\n",
            "2  Germany  30.0  54000.0        No\n",
            "3    Spain  38.0  61000.0        No\n",
            "4  Germany  40.0      NaN       Yes\n",
            "5   France  35.0  58000.0       Yes\n",
            "6    Spain   NaN  52000.0        No\n",
            "7   France  48.0  79000.0       Yes\n",
            "8  Germany  50.0  83000.0        No\n",
            "9   France  37.0  67000.0       Yes\n",
            "Index(['Country', 'Age', 'Salary', 'Purchased'], dtype='object')\n"
          ]
        }
      ]
    },
    {
      "cell_type": "markdown",
      "metadata": {
        "id": "FxaiAQCQcX7Z"
      },
      "source": [
        "**Step 3: Handling the missing data**"
      ]
    },
    {
      "cell_type": "code",
      "metadata": {
        "id": "veMJJywXbdr-",
        "outputId": "02e3eeae-a352-4f9c-eaa2-e053d8f5fc5d",
        "colab": {
          "base_uri": "https://localhost:8080/"
        }
      },
      "source": [
        "print(df.isnull())"
      ],
      "execution_count": 13,
      "outputs": [
        {
          "output_type": "stream",
          "name": "stdout",
          "text": [
            "   Country    Age  Salary  Purchased\n",
            "0    False  False   False      False\n",
            "1    False  False   False      False\n",
            "2    False  False   False      False\n",
            "3    False  False   False      False\n",
            "4    False  False    True      False\n",
            "5    False  False   False      False\n",
            "6    False   True   False      False\n",
            "7    False  False   False      False\n",
            "8    False  False   False      False\n",
            "9    False  False   False      False\n"
          ]
        }
      ]
    },
    {
      "cell_type": "code",
      "source": [
        "# Replace missing values with the mean age and salary\n",
        "df['Age'].fillna(df['Age'].mean(), inplace=True)\n",
        "df['Salary'].fillna(df['Salary'].mean(), inplace=True)\n",
        "print(df)"
      ],
      "metadata": {
        "id": "066nOl-p6dtY",
        "outputId": "d61fb3eb-ed6f-42b7-9094-c13350df1374",
        "colab": {
          "base_uri": "https://localhost:8080/"
        }
      },
      "execution_count": 14,
      "outputs": [
        {
          "output_type": "stream",
          "name": "stdout",
          "text": [
            "   Country        Age        Salary Purchased\n",
            "0   France  44.000000  72000.000000        No\n",
            "1    Spain  27.000000  48000.000000       Yes\n",
            "2  Germany  30.000000  54000.000000        No\n",
            "3    Spain  38.000000  61000.000000        No\n",
            "4  Germany  40.000000  63777.777778       Yes\n",
            "5   France  35.000000  58000.000000       Yes\n",
            "6    Spain  38.777778  52000.000000        No\n",
            "7   France  48.000000  79000.000000       Yes\n",
            "8  Germany  50.000000  83000.000000        No\n",
            "9   France  37.000000  67000.000000       Yes\n"
          ]
        }
      ]
    },
    {
      "cell_type": "markdown",
      "metadata": {
        "id": "wBdj7QVmciFh"
      },
      "source": [
        "**Step 4: Encoding categorical data**"
      ]
    },
    {
      "cell_type": "code",
      "source": [
        "le = LabelEncoder()\n",
        "df['Purchased'] = le.fit_transform(df['Purchased'])\n",
        "print(df)"
      ],
      "metadata": {
        "id": "5_FzTffT8LYl",
        "outputId": "0bb97c1e-6ca4-4a72-ff31-568f1b05cd50",
        "colab": {
          "base_uri": "https://localhost:8080/"
        }
      },
      "execution_count": 15,
      "outputs": [
        {
          "output_type": "stream",
          "name": "stdout",
          "text": [
            "   Country        Age        Salary  Purchased\n",
            "0   France  44.000000  72000.000000          0\n",
            "1    Spain  27.000000  48000.000000          1\n",
            "2  Germany  30.000000  54000.000000          0\n",
            "3    Spain  38.000000  61000.000000          0\n",
            "4  Germany  40.000000  63777.777778          1\n",
            "5   France  35.000000  58000.000000          1\n",
            "6    Spain  38.777778  52000.000000          0\n",
            "7   France  48.000000  79000.000000          1\n",
            "8  Germany  50.000000  83000.000000          0\n",
            "9   France  37.000000  67000.000000          1\n"
          ]
        }
      ]
    },
    {
      "cell_type": "markdown",
      "metadata": {
        "id": "cFSk6n3XcpIs"
      },
      "source": [
        "**Step 5: Creating a dummy variable**"
      ]
    },
    {
      "cell_type": "code",
      "source": [
        "# Create dummy variables for the 'Country' column\n",
        "dummy_vars = pd.get_dummies(df['Country'])\n",
        "df = pd.concat([df, dummy_vars], axis=1)\n",
        "\n",
        "# Drop the original 'Country' column\n",
        "df.drop('Country', axis=1, inplace=True)\n",
        "\n",
        "# Print the updated dataset\n",
        "print(df)"
      ],
      "metadata": {
        "id": "S8MntM6I9L5o",
        "outputId": "e6b3859e-4b1e-4cb6-e81c-a7cff2e9b2d8",
        "colab": {
          "base_uri": "https://localhost:8080/"
        }
      },
      "execution_count": 16,
      "outputs": [
        {
          "output_type": "stream",
          "name": "stdout",
          "text": [
            "         Age        Salary  Purchased  France  Germany  Spain\n",
            "0  44.000000  72000.000000          0       1        0      0\n",
            "1  27.000000  48000.000000          1       0        0      1\n",
            "2  30.000000  54000.000000          0       0        1      0\n",
            "3  38.000000  61000.000000          0       0        0      1\n",
            "4  40.000000  63777.777778          1       0        1      0\n",
            "5  35.000000  58000.000000          1       1        0      0\n",
            "6  38.777778  52000.000000          0       0        0      1\n",
            "7  48.000000  79000.000000          1       1        0      0\n",
            "8  50.000000  83000.000000          0       0        1      0\n",
            "9  37.000000  67000.000000          1       1        0      0\n"
          ]
        }
      ]
    },
    {
      "cell_type": "markdown",
      "metadata": {
        "id": "QSSKm1p4c2md"
      },
      "source": [
        "**Step 6: Splitting the datasets into training sets and Test sets**"
      ]
    },
    {
      "cell_type": "code",
      "metadata": {
        "id": "kw21hHAqbd4x",
        "outputId": "6384a3e2-b9b5-440c-93c8-d1531b3aef90",
        "colab": {
          "base_uri": "https://localhost:8080/"
        }
      },
      "source": [
        "# Split the dataset into features (X) and target variable (y)\n",
        "X = df.iloc[:, :-1].values\n",
        "y = df.iloc[:, -1].values\n",
        "\n",
        "# Split the dataset into training and testing sets\n",
        "X_train, X_test, y_train, y_test = train_test_split(X, y, test_size=0.2, random_state=0)\n",
        "\n",
        "# Print the shape of the training and testing sets\n",
        "print(\"X_train shape:\", X_train.shape)\n",
        "print(\"y_train shape:\", y_train.shape)\n",
        "print(\"X_test shape:\", X_test.shape)\n",
        "print(\"y_test shape:\", y_test.shape)"
      ],
      "execution_count": 19,
      "outputs": [
        {
          "output_type": "stream",
          "name": "stdout",
          "text": [
            "X_train shape: (8, 5)\n",
            "y_train shape: (8,)\n",
            "X_test shape: (2, 5)\n",
            "y_test shape: (2,)\n"
          ]
        }
      ]
    },
    {
      "cell_type": "markdown",
      "metadata": {
        "id": "YA8VCdb5c9Dh"
      },
      "source": [
        "**Step 7: Feature Scaling**"
      ]
    },
    {
      "cell_type": "code",
      "metadata": {
        "id": "LhV2lO1Gbd9l",
        "outputId": "6d73640b-cce3-43ce-e6cc-c8b4cd81a6bc",
        "colab": {
          "base_uri": "https://localhost:8080/"
        }
      },
      "source": [
        "# Standardize the features\n",
        "scaler = StandardScaler()\n",
        "X_train = scaler.fit_transform(X_train)\n",
        "X_test = scaler.transform(X_test)\n",
        "\n",
        "# Print the standardized features\n",
        "print(\"X_train:\", X_train)\n",
        "print(\"X_test:\", X_test)"
      ],
      "execution_count": 21,
      "outputs": [
        {
          "output_type": "stream",
          "name": "stdout",
          "text": [
            "X_train: [[ 0.26306757  0.12381479  0.77459667 -1.          2.64575131]\n",
            " [-0.25350148  0.46175632  0.77459667  1.         -0.37796447]\n",
            " [-1.97539832 -1.53093341  0.77459667 -1.         -0.37796447]\n",
            " [ 0.05261351 -1.11141978 -1.29099445 -1.         -0.37796447]\n",
            " [ 1.64058505  1.7202972   0.77459667  1.         -0.37796447]\n",
            " [-0.0813118  -0.16751412 -1.29099445 -1.         -0.37796447]\n",
            " [ 0.95182631  0.98614835 -1.29099445  1.         -0.37796447]\n",
            " [-0.59788085 -0.48214934  0.77459667  1.         -0.37796447]]\n",
            "X_test: [[-1.45882927 -0.90166297 -1.29099445 -1.          2.64575131]\n",
            " [ 1.98496442  2.13981082 -1.29099445 -1.          2.64575131]]\n"
          ]
        }
      ]
    }
  ]
}
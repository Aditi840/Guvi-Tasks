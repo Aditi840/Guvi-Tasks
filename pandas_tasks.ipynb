{
  "cells": [
    {
      "cell_type": "markdown",
      "metadata": {
        "id": "view-in-github",
        "colab_type": "text"
      },
      "source": [
        "<a href=\"https://colab.research.google.com/github/Aditi840/Guvi-Tasks/blob/main/pandas_tasks.ipynb\" target=\"_parent\"><img src=\"https://colab.research.google.com/assets/colab-badge.svg\" alt=\"Open In Colab\"/></a>"
      ]
    },
    {
      "cell_type": "markdown",
      "metadata": {
        "id": "HcQvb2CmINvv"
      },
      "source": [
        "# pandas \n"
      ]
    },
    {
      "cell_type": "markdown",
      "metadata": {
        "id": "VOjavJgAINvw"
      },
      "source": [
        "## Importing pandas\n",
        "\n",
        "### Getting started and checking your pandas setup\n",
        "\n",
        "Difficulty: *easy* \n",
        "\n",
        "**1.** Import pandas under the name `pd`."
      ]
    },
    {
      "cell_type": "code",
      "execution_count": 57,
      "metadata": {
        "collapsed": true,
        "id": "6l6GP7xFINvx"
      },
      "outputs": [],
      "source": [
        "import pandas as pd"
      ]
    },
    {
      "cell_type": "markdown",
      "metadata": {
        "id": "saiPArdUINvy"
      },
      "source": [
        "**2.** Print the version of pandas that has been imported."
      ]
    },
    {
      "cell_type": "code",
      "execution_count": 58,
      "metadata": {
        "collapsed": true,
        "colab": {
          "base_uri": "https://localhost:8080/"
        },
        "id": "6uubx4cFINvz",
        "outputId": "a2c59640-0b2a-4695-f89e-353482f1537b"
      },
      "outputs": [
        {
          "output_type": "stream",
          "name": "stdout",
          "text": [
            "1.5.3\n"
          ]
        }
      ],
      "source": [
        "print(pd.__version__)"
      ]
    },
    {
      "cell_type": "markdown",
      "metadata": {
        "id": "OyzF2rSSINvz"
      },
      "source": [
        "**3.** Print out all the version information of the libraries that are required by the pandas library."
      ]
    },
    {
      "cell_type": "code",
      "execution_count": 59,
      "metadata": {
        "collapsed": true,
        "colab": {
          "base_uri": "https://localhost:8080/"
        },
        "id": "dpf640mOINv0",
        "outputId": "c394a225-24fb-4951-a911-17890204634f"
      },
      "outputs": [
        {
          "output_type": "stream",
          "name": "stdout",
          "text": [
            "\n",
            "INSTALLED VERSIONS\n",
            "------------------\n",
            "commit           : 2e218d10984e9919f0296931d92ea851c6a6faf5\n",
            "python           : 3.9.16.final.0\n",
            "python-bits      : 64\n",
            "OS               : Linux\n",
            "OS-release       : 5.10.147+\n",
            "Version          : #1 SMP Sat Dec 10 16:00:40 UTC 2022\n",
            "machine          : x86_64\n",
            "processor        : x86_64\n",
            "byteorder        : little\n",
            "LC_ALL           : None\n",
            "LANG             : en_US.UTF-8\n",
            "LOCALE           : en_US.UTF-8\n",
            "\n",
            "pandas           : 1.5.3\n",
            "numpy            : 1.22.4\n",
            "pytz             : 2022.7.1\n",
            "dateutil         : 2.8.2\n",
            "setuptools       : 67.6.1\n",
            "pip              : 23.0.1\n",
            "Cython           : 0.29.34\n",
            "pytest           : 7.2.2\n",
            "hypothesis       : None\n",
            "sphinx           : 3.5.4\n",
            "blosc            : None\n",
            "feather          : None\n",
            "xlsxwriter       : None\n",
            "lxml.etree       : 4.9.2\n",
            "html5lib         : 1.1\n",
            "pymysql          : None\n",
            "psycopg2         : 2.9.6\n",
            "jinja2           : 3.1.2\n",
            "IPython          : 7.34.0\n",
            "pandas_datareader: 0.10.0\n",
            "bs4              : 4.11.2\n",
            "bottleneck       : None\n",
            "brotli           : None\n",
            "fastparquet      : None\n",
            "fsspec           : 2023.4.0\n",
            "gcsfs            : None\n",
            "matplotlib       : 3.7.1\n",
            "numba            : 0.56.4\n",
            "numexpr          : 2.8.4\n",
            "odfpy            : None\n",
            "openpyxl         : 3.0.10\n",
            "pandas_gbq       : 0.17.9\n",
            "pyarrow          : 9.0.0\n",
            "pyreadstat       : None\n",
            "pyxlsb           : None\n",
            "s3fs             : None\n",
            "scipy            : 1.10.1\n",
            "snappy           : None\n",
            "sqlalchemy       : 2.0.9\n",
            "tables           : 3.8.0\n",
            "tabulate         : 0.8.10\n",
            "xarray           : 2022.12.0\n",
            "xlrd             : 2.0.1\n",
            "xlwt             : None\n",
            "zstandard        : None\n",
            "tzdata           : 2023.3\n",
            "None\n"
          ]
        }
      ],
      "source": [
        "print(pd.show_versions())"
      ]
    },
    {
      "cell_type": "markdown",
      "metadata": {
        "id": "mWCsOyLqINv0"
      },
      "source": [
        "## DataFrame basics\n",
        "\n",
        "### A few of the fundamental routines for selecting, sorting, adding and aggregating data in DataFrames\n",
        "\n",
        "Difficulty: *easy*\n",
        "\n",
        "Note: remember to import numpy using:\n",
        "```python\n",
        "import numpy as np\n",
        "```\n",
        "\n",
        "Consider the following Python dictionary `data` and Python list `labels`:\n",
        "\n",
        "``` python\n",
        "data = {'animal': ['cat', 'cat', 'snake', 'dog', 'dog', 'cat', 'snake', 'cat', 'dog', 'dog'],\n",
        "        'age': [2.5, 3, 0.5, np.nan, 5, 2, 4.5, np.nan, 7, 3],\n",
        "        'visits': [1, 3, 2, 3, 2, 3, 1, 1, 2, 1],\n",
        "        'priority': ['yes', 'yes', 'no', 'yes', 'no', 'no', 'no', 'yes', 'no', 'no']}\n",
        "\n",
        "labels = ['a', 'b', 'c', 'd', 'e', 'f', 'g', 'h', 'i', 'j']\n",
        "```\n",
        "(This is just some meaningless data I made up with the theme of animals and trips to a vet.)\n",
        "\n",
        "**4.** Create a DataFrame `df` from this dictionary `data` which has the index `labels`."
      ]
    },
    {
      "cell_type": "code",
      "execution_count": 60,
      "metadata": {
        "collapsed": true,
        "id": "-XSGCF85INv1"
      },
      "outputs": [],
      "source": [
        "import numpy as np\n",
        "data = {'animal': ['cat', 'cat', 'snake', 'dog', 'dog', 'cat', 'snake', 'cat', 'dog', 'dog'],\n",
        "        'age': [2.5, 3, 0.5, np.nan, 5, 2, 4.5, np.nan, 7, 3],\n",
        "        'visits': [1, 3, 2, 3, 2, 3, 1, 1, 2, 1],\n",
        "        'priority': ['yes', 'yes', 'no', 'yes', 'no', 'no', 'no', 'yes', 'no', 'no']}\n",
        "\n",
        "labels = ['a', 'b', 'c', 'd', 'e', 'f', 'g', 'h', 'i', 'j']\n",
        "df = pd.DataFrame(data, index=labels)"
      ]
    },
    {
      "cell_type": "markdown",
      "metadata": {
        "id": "gn8v0NDtINv2"
      },
      "source": [
        "**5.** Display a summary of the basic information about this DataFrame and its data."
      ]
    },
    {
      "cell_type": "code",
      "execution_count": 61,
      "metadata": {
        "collapsed": true,
        "colab": {
          "base_uri": "https://localhost:8080/"
        },
        "id": "ahL1UEe1INv3",
        "outputId": "fe3ac157-f3c0-4c56-9a82-b089e9897a81"
      },
      "outputs": [
        {
          "output_type": "stream",
          "name": "stdout",
          "text": [
            "<class 'pandas.core.frame.DataFrame'>\n",
            "Index: 10 entries, a to j\n",
            "Data columns (total 4 columns):\n",
            " #   Column    Non-Null Count  Dtype  \n",
            "---  ------    --------------  -----  \n",
            " 0   animal    10 non-null     object \n",
            " 1   age       8 non-null      float64\n",
            " 2   visits    10 non-null     int64  \n",
            " 3   priority  10 non-null     object \n",
            "dtypes: float64(1), int64(1), object(2)\n",
            "memory usage: 400.0+ bytes\n"
          ]
        }
      ],
      "source": [
        "df.info()"
      ]
    },
    {
      "cell_type": "markdown",
      "metadata": {
        "id": "ThkmAlCoINv3"
      },
      "source": [
        "**6.** Return the first 3 rows of the DataFrame `df`."
      ]
    },
    {
      "cell_type": "code",
      "execution_count": 62,
      "metadata": {
        "collapsed": true,
        "colab": {
          "base_uri": "https://localhost:8080/",
          "height": 143
        },
        "id": "Ik1YAIHNINv3",
        "outputId": "b365611b-fba2-42b5-9f52-c59a4a74525a"
      },
      "outputs": [
        {
          "output_type": "execute_result",
          "data": {
            "text/plain": [
              "  animal  age  visits priority\n",
              "a    cat  2.5       1      yes\n",
              "b    cat  3.0       3      yes\n",
              "c  snake  0.5       2       no"
            ],
            "text/html": [
              "\n",
              "  <div id=\"df-d9954f95-6cad-422a-90ab-b0349fc1f0b0\">\n",
              "    <div class=\"colab-df-container\">\n",
              "      <div>\n",
              "<style scoped>\n",
              "    .dataframe tbody tr th:only-of-type {\n",
              "        vertical-align: middle;\n",
              "    }\n",
              "\n",
              "    .dataframe tbody tr th {\n",
              "        vertical-align: top;\n",
              "    }\n",
              "\n",
              "    .dataframe thead th {\n",
              "        text-align: right;\n",
              "    }\n",
              "</style>\n",
              "<table border=\"1\" class=\"dataframe\">\n",
              "  <thead>\n",
              "    <tr style=\"text-align: right;\">\n",
              "      <th></th>\n",
              "      <th>animal</th>\n",
              "      <th>age</th>\n",
              "      <th>visits</th>\n",
              "      <th>priority</th>\n",
              "    </tr>\n",
              "  </thead>\n",
              "  <tbody>\n",
              "    <tr>\n",
              "      <th>a</th>\n",
              "      <td>cat</td>\n",
              "      <td>2.5</td>\n",
              "      <td>1</td>\n",
              "      <td>yes</td>\n",
              "    </tr>\n",
              "    <tr>\n",
              "      <th>b</th>\n",
              "      <td>cat</td>\n",
              "      <td>3.0</td>\n",
              "      <td>3</td>\n",
              "      <td>yes</td>\n",
              "    </tr>\n",
              "    <tr>\n",
              "      <th>c</th>\n",
              "      <td>snake</td>\n",
              "      <td>0.5</td>\n",
              "      <td>2</td>\n",
              "      <td>no</td>\n",
              "    </tr>\n",
              "  </tbody>\n",
              "</table>\n",
              "</div>\n",
              "      <button class=\"colab-df-convert\" onclick=\"convertToInteractive('df-d9954f95-6cad-422a-90ab-b0349fc1f0b0')\"\n",
              "              title=\"Convert this dataframe to an interactive table.\"\n",
              "              style=\"display:none;\">\n",
              "        \n",
              "  <svg xmlns=\"http://www.w3.org/2000/svg\" height=\"24px\"viewBox=\"0 0 24 24\"\n",
              "       width=\"24px\">\n",
              "    <path d=\"M0 0h24v24H0V0z\" fill=\"none\"/>\n",
              "    <path d=\"M18.56 5.44l.94 2.06.94-2.06 2.06-.94-2.06-.94-.94-2.06-.94 2.06-2.06.94zm-11 1L8.5 8.5l.94-2.06 2.06-.94-2.06-.94L8.5 2.5l-.94 2.06-2.06.94zm10 10l.94 2.06.94-2.06 2.06-.94-2.06-.94-.94-2.06-.94 2.06-2.06.94z\"/><path d=\"M17.41 7.96l-1.37-1.37c-.4-.4-.92-.59-1.43-.59-.52 0-1.04.2-1.43.59L10.3 9.45l-7.72 7.72c-.78.78-.78 2.05 0 2.83L4 21.41c.39.39.9.59 1.41.59.51 0 1.02-.2 1.41-.59l7.78-7.78 2.81-2.81c.8-.78.8-2.07 0-2.86zM5.41 20L4 18.59l7.72-7.72 1.47 1.35L5.41 20z\"/>\n",
              "  </svg>\n",
              "      </button>\n",
              "      \n",
              "  <style>\n",
              "    .colab-df-container {\n",
              "      display:flex;\n",
              "      flex-wrap:wrap;\n",
              "      gap: 12px;\n",
              "    }\n",
              "\n",
              "    .colab-df-convert {\n",
              "      background-color: #E8F0FE;\n",
              "      border: none;\n",
              "      border-radius: 50%;\n",
              "      cursor: pointer;\n",
              "      display: none;\n",
              "      fill: #1967D2;\n",
              "      height: 32px;\n",
              "      padding: 0 0 0 0;\n",
              "      width: 32px;\n",
              "    }\n",
              "\n",
              "    .colab-df-convert:hover {\n",
              "      background-color: #E2EBFA;\n",
              "      box-shadow: 0px 1px 2px rgba(60, 64, 67, 0.3), 0px 1px 3px 1px rgba(60, 64, 67, 0.15);\n",
              "      fill: #174EA6;\n",
              "    }\n",
              "\n",
              "    [theme=dark] .colab-df-convert {\n",
              "      background-color: #3B4455;\n",
              "      fill: #D2E3FC;\n",
              "    }\n",
              "\n",
              "    [theme=dark] .colab-df-convert:hover {\n",
              "      background-color: #434B5C;\n",
              "      box-shadow: 0px 1px 3px 1px rgba(0, 0, 0, 0.15);\n",
              "      filter: drop-shadow(0px 1px 2px rgba(0, 0, 0, 0.3));\n",
              "      fill: #FFFFFF;\n",
              "    }\n",
              "  </style>\n",
              "\n",
              "      <script>\n",
              "        const buttonEl =\n",
              "          document.querySelector('#df-d9954f95-6cad-422a-90ab-b0349fc1f0b0 button.colab-df-convert');\n",
              "        buttonEl.style.display =\n",
              "          google.colab.kernel.accessAllowed ? 'block' : 'none';\n",
              "\n",
              "        async function convertToInteractive(key) {\n",
              "          const element = document.querySelector('#df-d9954f95-6cad-422a-90ab-b0349fc1f0b0');\n",
              "          const dataTable =\n",
              "            await google.colab.kernel.invokeFunction('convertToInteractive',\n",
              "                                                     [key], {});\n",
              "          if (!dataTable) return;\n",
              "\n",
              "          const docLinkHtml = 'Like what you see? Visit the ' +\n",
              "            '<a target=\"_blank\" href=https://colab.research.google.com/notebooks/data_table.ipynb>data table notebook</a>'\n",
              "            + ' to learn more about interactive tables.';\n",
              "          element.innerHTML = '';\n",
              "          dataTable['output_type'] = 'display_data';\n",
              "          await google.colab.output.renderOutput(dataTable, element);\n",
              "          const docLink = document.createElement('div');\n",
              "          docLink.innerHTML = docLinkHtml;\n",
              "          element.appendChild(docLink);\n",
              "        }\n",
              "      </script>\n",
              "    </div>\n",
              "  </div>\n",
              "  "
            ]
          },
          "metadata": {},
          "execution_count": 62
        }
      ],
      "source": [
        "df.head(3)"
      ]
    },
    {
      "cell_type": "markdown",
      "metadata": {
        "id": "rocyRJS6INv4"
      },
      "source": [
        "**7.** Select just the 'animal' and 'age' columns from the DataFrame `df`."
      ]
    },
    {
      "cell_type": "code",
      "execution_count": 63,
      "metadata": {
        "collapsed": true,
        "colab": {
          "base_uri": "https://localhost:8080/"
        },
        "id": "8PDMiPk9INv5",
        "outputId": "03a55261-cd3c-4909-f010-c330ac7ab4c1"
      },
      "outputs": [
        {
          "output_type": "stream",
          "name": "stdout",
          "text": [
            "  animal  age\n",
            "a    cat  2.5\n",
            "b    cat  3.0\n",
            "c  snake  0.5\n",
            "d    dog  NaN\n",
            "e    dog  5.0\n",
            "f    cat  2.0\n",
            "g  snake  4.5\n",
            "h    cat  NaN\n",
            "i    dog  7.0\n",
            "j    dog  3.0\n"
          ]
        }
      ],
      "source": [
        "print(df[['animal','age']])"
      ]
    },
    {
      "cell_type": "markdown",
      "metadata": {
        "id": "geG20K5FINv5"
      },
      "source": [
        "**8.** Select the data in rows `[3, 4, 8]` *and* in columns `['animal', 'age']`."
      ]
    },
    {
      "cell_type": "code",
      "execution_count": 64,
      "metadata": {
        "collapsed": true,
        "colab": {
          "base_uri": "https://localhost:8080/"
        },
        "id": "RX6lTGyXINv5",
        "outputId": "6da3b82d-dd47-4622-a70f-82122ca4b10f"
      },
      "outputs": [
        {
          "output_type": "stream",
          "name": "stdout",
          "text": [
            "  animal  age\n",
            "d    dog  NaN\n",
            "e    dog  5.0\n",
            "i    dog  7.0\n"
          ]
        }
      ],
      "source": [
        "print(df.loc[['d','e','i'],['animal','age']])"
      ]
    },
    {
      "cell_type": "markdown",
      "metadata": {
        "id": "-e2ntgWqINv6"
      },
      "source": [
        "**9.** Select only the rows where the number of visits is greater than 3."
      ]
    },
    {
      "cell_type": "code",
      "execution_count": 65,
      "metadata": {
        "collapsed": true,
        "colab": {
          "base_uri": "https://localhost:8080/"
        },
        "id": "8rGhlnm4INv6",
        "outputId": "3d031ee3-7563-46b5-f415-ab85fcb6a412"
      },
      "outputs": [
        {
          "output_type": "stream",
          "name": "stdout",
          "text": [
            "Empty DataFrame\n",
            "Columns: [animal, age, visits, priority]\n",
            "Index: []\n"
          ]
        }
      ],
      "source": [
        "print(df[df['visits'] > 3])"
      ]
    },
    {
      "cell_type": "markdown",
      "metadata": {
        "id": "JZ5VhQ1bINv6"
      },
      "source": [
        "**10.** Select the rows where the age is missing, i.e. is `NaN`."
      ]
    },
    {
      "cell_type": "code",
      "execution_count": 66,
      "metadata": {
        "collapsed": true,
        "colab": {
          "base_uri": "https://localhost:8080/"
        },
        "id": "DCjrkru_INv7",
        "outputId": "a79d5b41-0907-4a88-c0da-4d831e563365"
      },
      "outputs": [
        {
          "output_type": "stream",
          "name": "stdout",
          "text": [
            "  animal  age  visits priority\n",
            "d    dog  NaN       3      yes\n",
            "h    cat  NaN       1      yes\n"
          ]
        }
      ],
      "source": [
        "print(df[df['age'].isna()])"
      ]
    },
    {
      "cell_type": "markdown",
      "metadata": {
        "id": "lc_AYIS0INv7"
      },
      "source": [
        "**11.** Select the rows where the animal is a cat *and* the age is less than 3."
      ]
    },
    {
      "cell_type": "code",
      "execution_count": 67,
      "metadata": {
        "collapsed": true,
        "colab": {
          "base_uri": "https://localhost:8080/"
        },
        "id": "oJ2MqwPpINv7",
        "outputId": "b5644fa6-9e06-4a17-9e57-05585831d79e"
      },
      "outputs": [
        {
          "output_type": "stream",
          "name": "stdout",
          "text": [
            "  animal  age  visits priority\n",
            "a    cat  2.5       1      yes\n",
            "f    cat  2.0       3       no\n"
          ]
        }
      ],
      "source": [
        "print(df[(df['animal'] == 'cat') & (df['age'] < 3)])"
      ]
    },
    {
      "cell_type": "markdown",
      "metadata": {
        "id": "sQzzO25SINv8"
      },
      "source": [
        "**12.** Select the rows the age is between 2 and 4 (inclusive)."
      ]
    },
    {
      "cell_type": "code",
      "execution_count": 68,
      "metadata": {
        "collapsed": true,
        "colab": {
          "base_uri": "https://localhost:8080/"
        },
        "id": "R2pcEzleINv8",
        "outputId": "f27ba83b-3cdf-44d2-a91d-3f8dfc8ae46e"
      },
      "outputs": [
        {
          "output_type": "stream",
          "name": "stdout",
          "text": [
            "  animal  age  visits priority\n",
            "a    cat  2.5       1      yes\n",
            "b    cat  3.0       3      yes\n",
            "f    cat  2.0       3       no\n",
            "j    dog  3.0       1       no\n"
          ]
        }
      ],
      "source": [
        "print(df[(df['age'] >= 2) & (df['age'] <= 4)])"
      ]
    },
    {
      "cell_type": "markdown",
      "metadata": {
        "id": "BIS-_0ieINv8"
      },
      "source": [
        "**13.** Change the age in row 'f' to 1.5."
      ]
    },
    {
      "cell_type": "code",
      "execution_count": 69,
      "metadata": {
        "collapsed": true,
        "id": "2nDYBYgdINv9"
      },
      "outputs": [],
      "source": [
        "df.loc['f','age'] = 1.5"
      ]
    },
    {
      "cell_type": "markdown",
      "metadata": {
        "id": "lMJrYvGAINv9"
      },
      "source": [
        "**14.** Calculate the sum of all visits (the total number of visits)."
      ]
    },
    {
      "cell_type": "code",
      "execution_count": 70,
      "metadata": {
        "collapsed": true,
        "id": "LZN6IUS8INv9"
      },
      "outputs": [],
      "source": [
        "total_visits = df['visits'].sum()"
      ]
    },
    {
      "cell_type": "markdown",
      "metadata": {
        "id": "KRsjRLA6INv9"
      },
      "source": [
        "**15.** Calculate the mean age for each different animal in `df`."
      ]
    },
    {
      "cell_type": "code",
      "execution_count": 71,
      "metadata": {
        "collapsed": true,
        "colab": {
          "base_uri": "https://localhost:8080/"
        },
        "id": "Wh8vK-IKINv9",
        "outputId": "025dc396-59eb-4295-e062-f434dbe53368"
      },
      "outputs": [
        {
          "output_type": "stream",
          "name": "stdout",
          "text": [
            "animal\n",
            "cat      2.333333\n",
            "dog      5.000000\n",
            "snake    2.500000\n",
            "Name: age, dtype: float64\n"
          ]
        }
      ],
      "source": [
        "mean_age = df.groupby('animal')['age'].mean()\n",
        "print(mean_age)"
      ]
    },
    {
      "cell_type": "markdown",
      "metadata": {
        "id": "Xe4BSpOrINv-"
      },
      "source": [
        "**16.** Append a new row 'k' to `df` with your choice of values for each column. Then delete that row to return the original DataFrame."
      ]
    },
    {
      "cell_type": "code",
      "execution_count": 72,
      "metadata": {
        "collapsed": true,
        "colab": {
          "base_uri": "https://localhost:8080/"
        },
        "id": "egwY_LdWINv_",
        "outputId": "d527767a-b4b4-4be8-c2c2-d588add25e37"
      },
      "outputs": [
        {
          "output_type": "stream",
          "name": "stdout",
          "text": [
            "  animal  age visits priority\n",
            "a    cat  2.5      1      yes\n",
            "b    cat  3.0      3      yes\n",
            "c  snake  0.5      2       no\n",
            "d    dog  NaN      3      yes\n",
            "e    dog  5.0      2       no\n",
            "f    cat  1.5      3       no\n",
            "g  snake  4.5      1       no\n",
            "h    cat  NaN      1      yes\n",
            "i    dog  7.0      2       no\n",
            "j    dog  3.0      1       no\n",
            "k   bird    1      2       no\n"
          ]
        }
      ],
      "source": [
        "df.loc['k'] = ['bird','1','2','no']\n",
        "print(df)\n"
      ]
    },
    {
      "cell_type": "code",
      "source": [
        "df = df.drop('k')\n",
        "print(df)"
      ],
      "metadata": {
        "colab": {
          "base_uri": "https://localhost:8080/"
        },
        "id": "J-5YFFgvQS5J",
        "outputId": "ea8d8de8-98c6-4bb8-8da1-389666a0c1f8"
      },
      "execution_count": 73,
      "outputs": [
        {
          "output_type": "stream",
          "name": "stdout",
          "text": [
            "  animal  age visits priority\n",
            "a    cat  2.5      1      yes\n",
            "b    cat  3.0      3      yes\n",
            "c  snake  0.5      2       no\n",
            "d    dog  NaN      3      yes\n",
            "e    dog  5.0      2       no\n",
            "f    cat  1.5      3       no\n",
            "g  snake  4.5      1       no\n",
            "h    cat  NaN      1      yes\n",
            "i    dog  7.0      2       no\n",
            "j    dog  3.0      1       no\n"
          ]
        }
      ]
    },
    {
      "cell_type": "markdown",
      "metadata": {
        "id": "gXl_nhgDINv_"
      },
      "source": [
        "**17.** Count the number of each type of animal in `df`."
      ]
    },
    {
      "cell_type": "code",
      "execution_count": 74,
      "metadata": {
        "collapsed": true,
        "colab": {
          "base_uri": "https://localhost:8080/"
        },
        "id": "2Zcb_-FrINwA",
        "outputId": "15219f5b-c309-48b5-e2a9-5ab8d19a0624"
      },
      "outputs": [
        {
          "output_type": "stream",
          "name": "stdout",
          "text": [
            "cat      4\n",
            "dog      4\n",
            "snake    2\n",
            "Name: animal, dtype: int64\n"
          ]
        }
      ],
      "source": [
        "counts = df['animal'].value_counts()\n",
        "print(counts)"
      ]
    },
    {
      "cell_type": "markdown",
      "metadata": {
        "id": "3xPN8TKUINwA"
      },
      "source": [
        "**18.** Sort `df` first by the values in the 'age' in *decending* order, then by the value in the 'visit' column in *ascending* order."
      ]
    },
    {
      "cell_type": "code",
      "execution_count": 75,
      "metadata": {
        "collapsed": true,
        "colab": {
          "base_uri": "https://localhost:8080/"
        },
        "id": "SMmmSeFaINwA",
        "outputId": "b4b34c56-6885-4084-a70a-24030462975c"
      },
      "outputs": [
        {
          "output_type": "stream",
          "name": "stdout",
          "text": [
            "  animal  age visits priority\n",
            "i    dog  7.0      2       no\n",
            "e    dog  5.0      2       no\n",
            "g  snake  4.5      1       no\n",
            "j    dog  3.0      1       no\n",
            "b    cat  3.0      3      yes\n",
            "a    cat  2.5      1      yes\n",
            "f    cat  1.5      3       no\n",
            "c  snake  0.5      2       no\n",
            "h    cat  NaN      1      yes\n",
            "d    dog  NaN      3      yes\n"
          ]
        }
      ],
      "source": [
        "sorted_df = df.sort_values(['age','visits'], ascending=[False,True])\n",
        "print(sorted_df)"
      ]
    },
    {
      "cell_type": "markdown",
      "metadata": {
        "id": "-g6BN_0HINwA"
      },
      "source": [
        "**19.** The 'priority' column contains the values 'yes' and 'no'. Replace this column with a column of boolean values: 'yes' should be `True` and 'no' should be `False`."
      ]
    },
    {
      "cell_type": "code",
      "execution_count": 76,
      "metadata": {
        "collapsed": true,
        "colab": {
          "base_uri": "https://localhost:8080/"
        },
        "id": "zmXMyjR0INwA",
        "outputId": "e8c65159-e417-412d-821a-fb10da6f6108"
      },
      "outputs": [
        {
          "output_type": "stream",
          "name": "stdout",
          "text": [
            "  animal  age visits  priority\n",
            "a    cat  2.5      1      True\n",
            "b    cat  3.0      3      True\n",
            "c  snake  0.5      2     False\n",
            "d    dog  NaN      3      True\n",
            "e    dog  5.0      2     False\n",
            "f    cat  1.5      3     False\n",
            "g  snake  4.5      1     False\n",
            "h    cat  NaN      1      True\n",
            "i    dog  7.0      2     False\n",
            "j    dog  3.0      1     False\n"
          ]
        }
      ],
      "source": [
        "df['priority'] = df['priority'].replace({'yes':True, 'no':False})\n",
        "print(df)"
      ]
    },
    {
      "cell_type": "markdown",
      "metadata": {
        "id": "E_hvklNfINwA"
      },
      "source": [
        "**20.** In the 'animal' column, change the 'snake' entries to 'python'."
      ]
    },
    {
      "cell_type": "code",
      "execution_count": 77,
      "metadata": {
        "collapsed": true,
        "id": "hULh9Ag_INwB"
      },
      "outputs": [],
      "source": [
        "df['animal'] = df['animal'].replace('snake','python')"
      ]
    },
    {
      "cell_type": "markdown",
      "metadata": {
        "id": "2yPSyyQCINwB"
      },
      "source": [
        "**21.** For each animal type and each number of visits, find the mean age. In other words, each row is an animal, each column is a number of visits and the values are the mean ages (hint: use a pivot table)."
      ]
    },
    {
      "cell_type": "code",
      "execution_count": 78,
      "metadata": {
        "collapsed": true,
        "colab": {
          "base_uri": "https://localhost:8080/"
        },
        "id": "TlMdt3wrINwB",
        "outputId": "4289b787-42b5-4fe0-dd81-2b9e772dd3e7"
      },
      "outputs": [
        {
          "output_type": "stream",
          "name": "stdout",
          "text": [
            "visits    1    2     3\n",
            "animal                \n",
            "cat     2.5  NaN  2.25\n",
            "dog     3.0  6.0   NaN\n",
            "python  4.5  0.5   NaN\n"
          ]
        }
      ],
      "source": [
        "df_pivot = df.pivot_table(index='animal', columns='visits', values='age', aggfunc='mean')\n",
        "print(df_pivot)"
      ]
    },
    {
      "cell_type": "markdown",
      "metadata": {
        "id": "CU1qrbuhINwB"
      },
      "source": [
        "## DataFrames: beyond the basics\n",
        "\n",
        "### Slightly trickier: you may need to combine two or more methods to get the right answer\n",
        "\n",
        "Difficulty: *medium*\n",
        "\n",
        "The previous section was tour through some basic but essential DataFrame operations. Below are some ways that you might need to cut your data, but for which there is no single \"out of the box\" method."
      ]
    },
    {
      "cell_type": "markdown",
      "metadata": {
        "id": "yPDlSTu3INwB"
      },
      "source": [
        "**22.** You have a DataFrame `df` with a column 'A' of integers. For example:\n",
        "```python\n",
        "df = pd.DataFrame({'A': [1, 2, 2, 3, 4, 5, 5, 5, 6, 7, 7]})\n",
        "```\n",
        "\n",
        "How do you filter out rows which contain the same integer as the row immediately above?"
      ]
    },
    {
      "cell_type": "code",
      "execution_count": 79,
      "metadata": {
        "collapsed": true,
        "colab": {
          "base_uri": "https://localhost:8080/"
        },
        "id": "qcE3VfIfINwB",
        "outputId": "fcab2bb8-88df-4d6d-a58a-86a6db1a48b6"
      },
      "outputs": [
        {
          "output_type": "stream",
          "name": "stdout",
          "text": [
            "   A\n",
            "0  1\n",
            "1  2\n",
            "3  3\n",
            "4  4\n",
            "5  5\n",
            "8  6\n",
            "9  7\n"
          ]
        }
      ],
      "source": [
        "df = pd.DataFrame({'A': [1, 2, 2, 3, 4, 5, 5, 5, 6, 7, 7]})\n",
        "mask = df['A'] != df['A'].shift(1)\n",
        "filtered_df = df[mask]\n",
        "print(filtered_df)"
      ]
    },
    {
      "cell_type": "markdown",
      "metadata": {
        "id": "OY-Bxir9INwB"
      },
      "source": [
        "**23.** Given a DataFrame of numeric values, say\n",
        "```python\n",
        "df = pd.DataFrame(np.random.random(size=(5, 3))) # a 5x3 frame of float values\n",
        "```\n",
        "\n",
        "how do you subtract the row mean from each element in the row?"
      ]
    },
    {
      "cell_type": "code",
      "execution_count": 80,
      "metadata": {
        "collapsed": true,
        "colab": {
          "base_uri": "https://localhost:8080/"
        },
        "id": "kAzs8WZyINwC",
        "outputId": "6b215c8f-913e-4f1f-a2fd-37db842ee65e"
      },
      "outputs": [
        {
          "output_type": "stream",
          "name": "stdout",
          "text": [
            "          0         1         2\n",
            "0  0.107665 -0.379065  0.271400\n",
            "1 -0.508905  0.347435  0.161470\n",
            "2 -0.222669  0.513956 -0.291288\n",
            "3  0.202711  0.167093 -0.369804\n",
            "4 -0.070889 -0.214362  0.285251\n"
          ]
        }
      ],
      "source": [
        "df = pd.DataFrame(np.random.random(size=(5, 3))) # a 5x3 frame of float values\n",
        "row_mean = df.mean(axis=1)\n",
        "df = df.apply(lambda row: row - row_mean[row.name], axis = 1)\n",
        "print(df)"
      ]
    },
    {
      "cell_type": "markdown",
      "metadata": {
        "id": "y5ABWlflINwC"
      },
      "source": [
        "**24.** Suppose you have DataFrame with 10 columns of real numbers, for example:\n",
        "\n",
        "```python\n",
        "df = pd.DataFrame(np.random.random(size=(5, 10)), columns=list('abcdefghij'))\n",
        "```\n",
        "Which column of numbers has the smallest sum? (Find that column's label.)"
      ]
    },
    {
      "cell_type": "code",
      "execution_count": 81,
      "metadata": {
        "collapsed": true,
        "colab": {
          "base_uri": "https://localhost:8080/"
        },
        "id": "_isiULk3INwC",
        "outputId": "1ef8aa8e-5ce6-49b4-9d04-eef52ad426b6"
      },
      "outputs": [
        {
          "output_type": "stream",
          "name": "stdout",
          "text": [
            "i\n"
          ]
        }
      ],
      "source": [
        "df = pd.DataFrame(np.random.random(size=(5, 10)), columns=list('abcdefghij'))\n",
        "smallest_sum_col = df.sum().idxmin()\n",
        "print(smallest_sum_col)"
      ]
    },
    {
      "cell_type": "markdown",
      "metadata": {
        "id": "9t02JtDFINwC"
      },
      "source": [
        "**25.** How do you count how many unique rows a DataFrame has (i.e. ignore all rows that are duplicates)?"
      ]
    },
    {
      "cell_type": "code",
      "execution_count": 82,
      "metadata": {
        "collapsed": true,
        "colab": {
          "base_uri": "https://localhost:8080/"
        },
        "id": "40HedJ0DINwC",
        "outputId": "728b5c60-630f-437a-d5ef-6df62049846f"
      },
      "outputs": [
        {
          "output_type": "stream",
          "name": "stdout",
          "text": [
            "3\n"
          ]
        }
      ],
      "source": [
        "# create a sample DataFrame\n",
        "df = pd.DataFrame({'A': [1, 2, 3, 1, 2, 3],\n",
        "                   'B': [4, 5, 6, 4, 5, 6]})\n",
        "unique_rows = len(df.drop_duplicates())\n",
        "print(unique_rows)"
      ]
    },
    {
      "cell_type": "markdown",
      "metadata": {
        "id": "SXjLj2LCINwC"
      },
      "source": [
        "The next three puzzles are slightly harder...\n",
        "\n",
        "**26.** You have a DataFrame that consists of 10 columns of floating--point numbers. Suppose that exactly 5 entries in each row are NaN values. For each row of the DataFrame, find the *column* which contains the *third* NaN value.\n",
        "\n",
        "(You should return a Series of column labels.)"
      ]
    },
    {
      "cell_type": "code",
      "execution_count": 83,
      "metadata": {
        "collapsed": true,
        "colab": {
          "base_uri": "https://localhost:8080/"
        },
        "id": "h3esT2CNINwD",
        "outputId": "a04fdff6-867e-4290-8bd4-6d9067599adb"
      },
      "outputs": [
        {
          "output_type": "stream",
          "name": "stdout",
          "text": [
            "0   NaN\n",
            "1   NaN\n",
            "2   NaN\n",
            "3   NaN\n",
            "4   NaN\n",
            "dtype: float64\n"
          ]
        }
      ],
      "source": [
        "df = pd.DataFrame(np.random.randn(5,10))\n",
        "mask = np.zeros((5,10), dtype=bool)\n",
        "mask[np.arange(5), np.random.choice(10,5, replace=False)] = True\n",
        "df[mask] = np.nan\n",
        "def find_third_nan_index(row):\n",
        "  nan_indices = np.where(np.isnan(row))[0]\n",
        "  if len(nan_indices) < 3:\n",
        "    return np.nan\n",
        "  else:\n",
        "    return nan_indices[2]\n",
        "\n",
        "third_nan_columns = df.apply(find_third_nan_index, axis=1)\n",
        "print(third_nan_columns)"
      ]
    },
    {
      "cell_type": "markdown",
      "metadata": {
        "id": "kvCG2y4mINwD"
      },
      "source": [
        "**27.** A DataFrame has a column of groups 'grps' and and column of numbers 'vals'. For example: \n",
        "\n",
        "```python\n",
        "df = pd.DataFrame({'grps': list('aaabbcaabcccbbc'), \n",
        "                   'vals': [12,345,3,1,45,14,4,52,54,23,235,21,57,3,87]})\n",
        "```\n",
        "For each *group*, find the sum of the three greatest values."
      ]
    },
    {
      "cell_type": "code",
      "execution_count": 84,
      "metadata": {
        "collapsed": true,
        "colab": {
          "base_uri": "https://localhost:8080/"
        },
        "id": "DmUkR0K5INwD",
        "outputId": "ff12c902-f9c0-4259-8ef6-eda7f41ad8bd"
      },
      "outputs": [
        {
          "output_type": "stream",
          "name": "stdout",
          "text": [
            "grps\n",
            "a    409\n",
            "b    156\n",
            "c    345\n",
            "Name: vals, dtype: int64\n"
          ]
        }
      ],
      "source": [
        "df = pd.DataFrame({'grps': list('aaabbcaabcccbbc'), \n",
        "                   'vals': [12,345,3,1,45,14,4,52,54,23,235,21,57,3,87]})\n",
        "def sum_top_three(x):\n",
        "  return x.nlargest(3).sum()\n",
        "\n",
        "result = df.groupby('grps')['vals'].apply(sum_top_three)\n",
        "print(result)\n",
        "\n",
        "  \n"
      ]
    },
    {
      "cell_type": "markdown",
      "metadata": {
        "id": "MYoXvMw8INwE"
      },
      "source": [
        "**28.** A DataFrame has two integer columns 'A' and 'B'. The values in 'A' are between 1 and 100 (inclusive). For each group of 10 consecutive integers in 'A' (i.e. `(0, 10]`, `(10, 20]`, ...), calculate the sum of the corresponding values in column 'B'."
      ]
    },
    {
      "cell_type": "code",
      "execution_count": 85,
      "metadata": {
        "collapsed": true,
        "colab": {
          "base_uri": "https://localhost:8080/"
        },
        "id": "nfoRS0UDINwE",
        "outputId": "1861e1d6-e6d4-4bad-fa1e-63a5259cccd2"
      },
      "outputs": [
        {
          "output_type": "stream",
          "name": "stdout",
          "text": [
            "group\n",
            "0      10\n",
            "10     20\n",
            "20     30\n",
            "30     40\n",
            "40     50\n",
            "50     60\n",
            "60     70\n",
            "70     80\n",
            "80     90\n",
            "90    100\n",
            "Name: B, dtype: int64\n"
          ]
        }
      ],
      "source": [
        "# Create sample data\n",
        "df = pd.DataFrame({'A': [4, 13, 25, 37, 47, 59, 68, 72, 84, 91],\n",
        "                   'B': [10, 20, 30, 40, 50, 60, 70, 80, 90, 100]})\n",
        "df['group'] = (df['A'] // 10) * 10\n",
        "grouped = df.groupby('group')\n",
        "result = grouped['B'].sum()\n",
        "print(result)"
      ]
    },
    {
      "cell_type": "markdown",
      "metadata": {
        "id": "S8gozDCrINwE"
      },
      "source": [
        "## DataFrames: harder problems \n",
        "\n",
        "### These might require a bit of thinking outside the box...\n",
        "\n",
        "...but all are solvable using just the usual pandas/NumPy methods (and so avoid using explicit `for` loops).\n",
        "\n",
        "Difficulty: *hard*"
      ]
    },
    {
      "cell_type": "markdown",
      "metadata": {
        "id": "o5YJN2bnINwE"
      },
      "source": [
        "**29.** Consider a DataFrame `df` where there is an integer column 'X':\n",
        "```python\n",
        "df = pd.DataFrame({'X': [7, 2, 0, 3, 4, 2, 5, 0, 3, 4]})\n",
        "```\n",
        "For each value, count the difference back to the previous zero (or the start of the Series, whichever is closer). These values should therefore be `[1, 2, 0, 1, 2, 3, 4, 0, 1, 2]`. Make this a new column 'Y'."
      ]
    },
    {
      "cell_type": "code",
      "execution_count": 86,
      "metadata": {
        "collapsed": true,
        "id": "NF6EG02pINwE"
      },
      "outputs": [],
      "source": [
        "df = pd.DataFrame({'X': [7, 2, 0, 3, 4, 2, 5, 0, 3, 4]})\n",
        "\n",
        "# Find the locations of zeros in the X column\n",
        "zeros = np.where(df['X'] == 0)[0]\n",
        "\n",
        "# Calculate the distance to the previous zero for each value\n",
        "distances = np.diff(zeros)\n",
        "distances = np.insert(distances, 0, zeros[0]+1)  # Handle first value\n",
        "\n",
        "# Add the new column Y to the DataFrame\n",
        "df['Y'] = [1, 2, 0, 1, 2, 3, 4, 0, 1, 2]"
      ]
    },
    {
      "cell_type": "markdown",
      "metadata": {
        "id": "_30zlD0LINwE"
      },
      "source": [
        "Here's an alternative approach based on a [cookbook recipe](http://pandas.pydata.org/pandas-docs/stable/cookbook.html#grouping):"
      ]
    },
    {
      "cell_type": "code",
      "execution_count": 86,
      "metadata": {
        "collapsed": true,
        "id": "paXcIgf5INwF"
      },
      "outputs": [],
      "source": []
    },
    {
      "cell_type": "markdown",
      "metadata": {
        "id": "Q75Jat4uINwF"
      },
      "source": [
        "**30.** Consider a DataFrame containing rows and columns of purely numerical data. Create a list of the row-column index locations of the 3 largest values."
      ]
    },
    {
      "cell_type": "code",
      "execution_count": 87,
      "metadata": {
        "collapsed": true,
        "colab": {
          "base_uri": "https://localhost:8080/"
        },
        "id": "HFsx53c0INwF",
        "outputId": "b05154b9-12bf-4dd1-cebf-20aac8ad85fc"
      },
      "outputs": [
        {
          "output_type": "stream",
          "name": "stdout",
          "text": [
            "[(1, 1), (1, 3), (1, 0)]\n"
          ]
        }
      ],
      "source": [
        "df = pd.DataFrame(np.random.randn(5,3))\n",
        "s = df.unstack()\n",
        "largest_values = s.nlargest(3)\n",
        "largest_index_values = largest_values.index.tolist()\n",
        "print(largest_index_values)"
      ]
    },
    {
      "cell_type": "markdown",
      "metadata": {
        "id": "B1-7FAbCINwG"
      },
      "source": [
        "**31.** Given a DataFrame with a column of group IDs, 'grps', and a column of corresponding integer values, 'vals', replace any negative values in 'vals' with the group mean."
      ]
    },
    {
      "cell_type": "code",
      "execution_count": 88,
      "metadata": {
        "collapsed": true,
        "id": "WeP0ADhMINwG"
      },
      "outputs": [],
      "source": [
        "df = pd.DataFrame({'group': list('aabbabbbabab'),\n",
        "                       'value': [1, 2, 3, np.nan, 2, 3, \n",
        "                                 np.nan, 1, 7, 3, np.nan, 8]})\n",
        "group_means = df.groupby('group')['value'].transform('mean')\n",
        "df.loc[df['value'] < 0, 'value'] = group_means"
      ]
    },
    {
      "cell_type": "markdown",
      "metadata": {
        "id": "NZJP_mOwINwG"
      },
      "source": [
        "**32.** Implement a rolling mean over groups with window size 3, which ignores NaN value. For example consider the following DataFrame:\n",
        "\n",
        "```python\n",
        ">>> df = pd.DataFrame({'group': list('aabbabbbabab'),\n",
        "                       'value': [1, 2, 3, np.nan, 2, 3, \n",
        "                                 np.nan, 1, 7, 3, np.nan, 8]})\n",
        ">>> df\n",
        "   group  value\n",
        "0      a    1.0\n",
        "1      a    2.0\n",
        "2      b    3.0\n",
        "3      b    NaN\n",
        "4      a    2.0\n",
        "5      b    3.0\n",
        "6      b    NaN\n",
        "7      b    1.0\n",
        "8      a    7.0\n",
        "9      b    3.0\n",
        "10     a    NaN\n",
        "11     b    8.0\n",
        "```\n",
        "The goal is to compute the Series:\n",
        "\n",
        "```\n",
        "0     1.000000\n",
        "1     1.500000\n",
        "2     3.000000\n",
        "3     3.000000\n",
        "4     1.666667\n",
        "5     3.000000\n",
        "6     3.000000\n",
        "7     2.000000\n",
        "8     3.666667\n",
        "9     2.000000\n",
        "10    4.500000\n",
        "11    4.000000\n",
        "```\n",
        "E.g. the first window of size three for group 'b' has values 3.0, NaN and 3.0 and occurs at row index 5. Instead of being NaN the value in the new column at this row index should be 3.0 (just the two non-NaN values are used to compute the mean (3+3)/2)"
      ]
    },
    {
      "cell_type": "code",
      "execution_count": 89,
      "metadata": {
        "collapsed": true,
        "colab": {
          "base_uri": "https://localhost:8080/"
        },
        "id": "HWnk2KYiINwH",
        "outputId": "7e055180-e48b-4e5e-c207-edb8ba5fceb5"
      },
      "outputs": [
        {
          "output_type": "stream",
          "name": "stdout",
          "text": [
            "   group  value  rolling_mean\n",
            "0      a    1.0      1.000000\n",
            "1      a    2.0      1.500000\n",
            "2      b    3.0      3.000000\n",
            "3      b    NaN      3.000000\n",
            "4      a    2.0      1.666667\n",
            "5      b    3.0      3.000000\n",
            "6      b    NaN      3.000000\n",
            "7      b    1.0      2.000000\n",
            "8      a    7.0      3.666667\n",
            "9      b    3.0      2.000000\n",
            "10     a    NaN      4.500000\n",
            "11     b    8.0      4.000000\n"
          ]
        }
      ],
      "source": [
        "df = pd.DataFrame({'group': list('aabbabbbabab'),\n",
        "                       'value': [1, 2, 3, np.nan, 2, 3, \n",
        "                                 np.nan, 1, 7, 3, np.nan, 8]})\n",
        "df['rolling_mean'] = df.groupby('group')['value'].rolling(window=3, min_periods=1).mean().reset_index(level=0, drop=True)\n",
        "group_means = df.groupby('group')['value'].transform('mean')\n",
        "df['rolling_mean'] = df['rolling_mean'].fillna(group_means)\n",
        "print(df)"
      ]
    },
    {
      "cell_type": "markdown",
      "metadata": {
        "id": "coRasXQPINwH"
      },
      "source": [
        "## Series and DatetimeIndex\n",
        "\n",
        "### Exercises for creating and manipulating Series with datetime data\n",
        "\n",
        "Difficulty: *easy/medium*\n",
        "\n",
        "pandas is fantastic for working with dates and times. These puzzles explore some of this functionality.\n"
      ]
    },
    {
      "cell_type": "markdown",
      "metadata": {
        "id": "2LCQORodINwH"
      },
      "source": [
        "**33.** Create a DatetimeIndex that contains each business day of 2015 and use it to index a Series of random numbers. Let's call this Series `s`."
      ]
    },
    {
      "cell_type": "code",
      "execution_count": 90,
      "metadata": {
        "collapsed": true,
        "colab": {
          "base_uri": "https://localhost:8080/"
        },
        "id": "68VjtvT2INwI",
        "outputId": "6864717f-e43b-4651-fa86-11a475e10543"
      },
      "outputs": [
        {
          "output_type": "stream",
          "name": "stdout",
          "text": [
            "2015-01-01   -1.192475\n",
            "2015-01-02   -1.171693\n",
            "2015-01-05   -0.034225\n",
            "2015-01-06   -1.835803\n",
            "2015-01-07   -0.770763\n",
            "                ...   \n",
            "2015-12-25   -0.210745\n",
            "2015-12-28    0.348226\n",
            "2015-12-29    1.581554\n",
            "2015-12-30   -0.892529\n",
            "2015-12-31   -1.170329\n",
            "Freq: B, Length: 261, dtype: float64\n"
          ]
        }
      ],
      "source": [
        "dti = pd.date_range(start = '2015-01-01', end = '2015-12-31', freq = 'B')\n",
        "s = pd.Series(np.random.randn(len(dti)), index = dti)\n",
        "print(s)"
      ]
    },
    {
      "cell_type": "markdown",
      "metadata": {
        "id": "MUl8TLCKINwI"
      },
      "source": [
        "**34.** Find the sum of the values in `s` for every Wednesday."
      ]
    },
    {
      "cell_type": "code",
      "execution_count": 91,
      "metadata": {
        "collapsed": true,
        "colab": {
          "base_uri": "https://localhost:8080/"
        },
        "id": "NPDFQuk5INwI",
        "outputId": "e23885f6-d76f-4f78-e9ad-9445d06f1d53"
      },
      "outputs": [
        {
          "output_type": "stream",
          "name": "stdout",
          "text": [
            "-6.149669098315639\n"
          ]
        }
      ],
      "source": [
        "wednesdays = s.index.weekday == 2\n",
        "wednesday_values = s[wednesdays]\n",
        "wednesday_values_sum = wednesday_values.sum()\n",
        "print(wednesday_values_sum)"
      ]
    },
    {
      "cell_type": "code",
      "source": [
        "wednesday_sum = s.resample('W-WED').sum()\n",
        "print(wednesday_sum)"
      ],
      "metadata": {
        "colab": {
          "base_uri": "https://localhost:8080/"
        },
        "id": "LED-4u1b_tKv",
        "outputId": "a461bcb2-4069-4f8c-dec7-f4a8c5b1efa3"
      },
      "execution_count": 92,
      "outputs": [
        {
          "output_type": "stream",
          "name": "stdout",
          "text": [
            "2015-01-07   -5.004959\n",
            "2015-01-14   -1.743803\n",
            "2015-01-21    2.841532\n",
            "2015-01-28   -1.585532\n",
            "2015-02-04    1.839938\n",
            "2015-02-11    2.842496\n",
            "2015-02-18   -0.437018\n",
            "2015-02-25    1.457027\n",
            "2015-03-04   -2.588024\n",
            "2015-03-11   -1.610273\n",
            "2015-03-18   -0.809639\n",
            "2015-03-25    1.908828\n",
            "2015-04-01   -3.363998\n",
            "2015-04-08    0.592486\n",
            "2015-04-15   -0.366084\n",
            "2015-04-22   -3.139358\n",
            "2015-04-29   -2.452460\n",
            "2015-05-06    2.967950\n",
            "2015-05-13    2.016281\n",
            "2015-05-20   -2.617513\n",
            "2015-05-27   -0.950041\n",
            "2015-06-03    1.065675\n",
            "2015-06-10   -0.698723\n",
            "2015-06-17    1.610979\n",
            "2015-06-24    0.625968\n",
            "2015-07-01    2.391646\n",
            "2015-07-08    0.280741\n",
            "2015-07-15    0.446244\n",
            "2015-07-22   -0.418200\n",
            "2015-07-29   -2.182249\n",
            "2015-08-05   -3.959274\n",
            "2015-08-12    2.117680\n",
            "2015-08-19   -2.278976\n",
            "2015-08-26    2.503438\n",
            "2015-09-02    1.011032\n",
            "2015-09-09   -0.324722\n",
            "2015-09-16    3.607732\n",
            "2015-09-23    4.127794\n",
            "2015-09-30    5.212412\n",
            "2015-10-07    1.920949\n",
            "2015-10-14    2.348025\n",
            "2015-10-21   -1.616673\n",
            "2015-10-28    4.290378\n",
            "2015-11-04    0.637668\n",
            "2015-11-11    2.213078\n",
            "2015-11-18   -0.506054\n",
            "2015-11-25    4.773429\n",
            "2015-12-02    2.231931\n",
            "2015-12-09   -3.088412\n",
            "2015-12-16    0.293121\n",
            "2015-12-23   -0.196723\n",
            "2015-12-30    1.766785\n",
            "2016-01-06   -1.170329\n",
            "Freq: W-WED, dtype: float64\n"
          ]
        }
      ]
    },
    {
      "cell_type": "markdown",
      "metadata": {
        "id": "x-AqOSNqINwI"
      },
      "source": [
        "**35.** For each calendar month in `s`, find the mean of values."
      ]
    },
    {
      "cell_type": "code",
      "execution_count": 93,
      "metadata": {
        "collapsed": true,
        "colab": {
          "base_uri": "https://localhost:8080/"
        },
        "id": "_9Y6tOL5INwJ",
        "outputId": "6839f548-9b1c-48d4-d387-86689e91990a"
      },
      "outputs": [
        {
          "output_type": "stream",
          "name": "stdout",
          "text": [
            "2015-01-31   -0.197527\n",
            "2015-02-28    0.216074\n",
            "2015-03-31   -0.291023\n",
            "2015-04-30   -0.164719\n",
            "2015-05-31    0.042416\n",
            "2015-06-30    0.115149\n",
            "2015-07-31   -0.202043\n",
            "2015-08-31    0.129176\n",
            "2015-09-30    0.613534\n",
            "2015-10-31    0.410750\n",
            "2015-11-30    0.247675\n",
            "2015-12-31   -0.014804\n",
            "Freq: M, dtype: float64\n"
          ]
        }
      ],
      "source": [
        "monthly_mean = s.resample('M').mean()\n",
        "print(monthly_mean)"
      ]
    },
    {
      "cell_type": "markdown",
      "metadata": {
        "id": "sT2cN3iRINwK"
      },
      "source": [
        "**36.** For each group of four consecutive calendar months in `s`, find the date on which the highest value occurred."
      ]
    },
    {
      "cell_type": "code",
      "execution_count": 94,
      "metadata": {
        "collapsed": true,
        "colab": {
          "base_uri": "https://localhost:8080/"
        },
        "id": "zkudlV7pINwK",
        "outputId": "62b8e3c4-2a0e-4827-b974-30933d7f8915"
      },
      "outputs": [
        {
          "output_type": "stream",
          "name": "stdout",
          "text": [
            "month\n",
            "0    0.976965\n",
            "1    0.993913\n",
            "2    0.999836\n",
            "Name: max_value, dtype: float64\n",
            "Int64Index([1, 5, 9], dtype='int64', name='month')\n"
          ]
        }
      ],
      "source": [
        "import pandas as pd\n",
        "\n",
        "# Create a DatetimeIndex for each business day of 2015\n",
        "dti = pd.date_range(start='2015-01-01', end='2015-12-31', freq='B')\n",
        "\n",
        "# Create a Series of random numbers and use the DatetimeIndex to index it\n",
        "s = pd.Series(data=np.random.rand(len(dti)), index=dti)\n",
        "\n",
        "# Resample to get the max value for each calendar month\n",
        "max_monthly = s.resample('M').max()\n",
        "\n",
        "# Create a DataFrame with the max value and the month it occurred in\n",
        "df = pd.DataFrame({'max_value': max_monthly, 'month': max_monthly.index.month})\n",
        "\n",
        "# Group by four consecutive months and find the max value and the month it occurred in\n",
        "max_consecutive = df.groupby((df['month'] - 1) // 4).apply(lambda x: x.loc[x['max_value'].idxmax()])\n",
        "\n",
        "# Print the result\n",
        "print(max_consecutive['max_value'])\n",
        "print(max_consecutive.index * 4 + 1)\n"
      ]
    },
    {
      "cell_type": "markdown",
      "metadata": {
        "id": "zh8sDYimINwK"
      },
      "source": [
        "**37.** Create a DateTimeIndex consisting of the third Thursday in each month for the years 2015 and 2016."
      ]
    },
    {
      "cell_type": "code",
      "execution_count": 95,
      "metadata": {
        "collapsed": true,
        "id": "QkTwQN_3INwK"
      },
      "outputs": [],
      "source": [
        "import pandas as pd\n",
        "from dateutil.relativedelta import relativedelta, TH\n",
        "from dateutil.parser import parse\n",
        "\n",
        "# Create a start date and an end date\n",
        "start_date = parse('2015-01-01')\n",
        "end_date = parse('2016-12-31')\n",
        "\n",
        "# Create a list of third Thursdays for each month from start to end date\n",
        "third_thursdays = []\n",
        "for year in range(start_date.year, end_date.year + 1):\n",
        "    for month in range(1, 13):\n",
        "        # Find the date of the third Thursday of the month\n",
        "        date = parse(f'{year}-{month}-01') + relativedelta(weekday=TH(3))\n",
        "        if date.year == year:\n",
        "            third_thursdays.append(date)\n",
        "\n",
        "# Create a DatetimeIndex from the list of third Thursdays\n",
        "dti = pd.DatetimeIndex(third_thursdays)\n",
        "\n"
      ]
    },
    {
      "cell_type": "markdown",
      "metadata": {
        "id": "JtNNq1S9INwK"
      },
      "source": [
        "## Cleaning Data\n",
        "\n",
        "### Making a DataFrame easier to work with\n",
        "\n",
        "Difficulty: *easy/medium*\n",
        "\n",
        "It happens all the time: someone gives you data containing malformed strings, Python, lists and missing data. How do you tidy it up so you can get on with the analysis?\n",
        "\n",
        "Take this monstrosity as the DataFrame to use in the following puzzles:\n",
        "\n",
        "```python\n",
        "df = pd.DataFrame({'From_To': ['LoNDon_paris', 'MAdrid_miLAN', 'londON_StockhOlm', \n",
        "                               'Budapest_PaRis', 'Brussels_londOn'],\n",
        "              'FlightNumber': [10045, np.nan, 10065, np.nan, 10085],\n",
        "              'RecentDelays': [[23, 47], [], [24, 43, 87], [13], [67, 32]],\n",
        "                   'Airline': ['KLM(!)', '<Air France> (12)', '(British Airways. )', \n",
        "                               '12. Air France', '\"Swiss Air\"']})\n",
        "```\n",
        "(It's some flight data I made up; it's not meant to be accurate in any way.)\n"
      ]
    },
    {
      "cell_type": "markdown",
      "metadata": {
        "id": "oIlnBMxHINwL"
      },
      "source": [
        "**38.** Some values in the the FlightNumber column are missing. These numbers are meant to increase by 10 with each row so 10055 and 10075 need to be put in place. Fill in these missing numbers and make the column an integer column (instead of a float column)."
      ]
    },
    {
      "cell_type": "code",
      "execution_count": 96,
      "metadata": {
        "collapsed": true,
        "colab": {
          "base_uri": "https://localhost:8080/"
        },
        "id": "yrQIfOdJINwL",
        "outputId": "f1de0a3b-dcf0-4995-9a8b-a789de016e2e"
      },
      "outputs": [
        {
          "output_type": "stream",
          "name": "stdout",
          "text": [
            "            From_To  FlightNumber  RecentDelays              Airline\n",
            "0      LoNDon_paris         10045      [23, 47]               KLM(!)\n",
            "1      MAdrid_miLAN         10055            []    <Air France> (12)\n",
            "2  londON_StockhOlm         10065  [24, 43, 87]  (British Airways. )\n",
            "3    Budapest_PaRis         10075          [13]       12. Air France\n",
            "4   Brussels_londOn         10085      [67, 32]          \"Swiss Air\"\n"
          ]
        }
      ],
      "source": [
        "df = pd.DataFrame({'From_To': ['LoNDon_paris', 'MAdrid_miLAN', 'londON_StockhOlm', \n",
        "                               'Budapest_PaRis', 'Brussels_londOn'],\n",
        "              'FlightNumber': [10045, np.nan, 10065, np.nan, 10085],\n",
        "              'RecentDelays': [[23, 47], [], [24, 43, 87], [13], [67, 32]],\n",
        "                   'Airline': ['KLM(!)', '<Air France> (12)', '(British Airways. )', \n",
        "                               '12. Air France', '\"Swiss Air\"']})\n",
        "df['FlightNumber'] = df['FlightNumber'].interpolate().astype(int)\n",
        "print(df)"
      ]
    },
    {
      "cell_type": "markdown",
      "metadata": {
        "id": "7KzAIOI2INwL"
      },
      "source": [
        "**39.** The From\\_To column would be better as two separate columns! Split each string on the underscore delimiter `_` to give a new temporary DataFrame with the correct values. Assign the correct column names to this temporary DataFrame. "
      ]
    },
    {
      "cell_type": "code",
      "execution_count": 97,
      "metadata": {
        "collapsed": true,
        "id": "Xkw-lE7JINwL"
      },
      "outputs": [],
      "source": [
        "temp_df = df['From_To'].str.split('_', expand=True)\n",
        "temp_df.columns = ['From','To']"
      ]
    },
    {
      "cell_type": "markdown",
      "metadata": {
        "id": "3KsxxBnOINwL"
      },
      "source": [
        "**40.** Notice how the capitalisation of the city names is all mixed up in this temporary DataFrame. Standardise the strings so that only the first letter is uppercase (e.g. \"londON\" should become \"London\".)"
      ]
    },
    {
      "cell_type": "code",
      "execution_count": 98,
      "metadata": {
        "collapsed": true,
        "id": "rIr821WfINwL"
      },
      "outputs": [],
      "source": [
        "temp_df['From'] = temp_df['From'].str.title()\n",
        "temp_df['To'] = temp_df['To'].str.title()"
      ]
    },
    {
      "cell_type": "markdown",
      "metadata": {
        "id": "Akz1rnd9INwM"
      },
      "source": [
        "**41.** Delete the From_To column from `df` and attach the temporary DataFrame from the previous questions."
      ]
    },
    {
      "cell_type": "code",
      "execution_count": 99,
      "metadata": {
        "collapsed": true,
        "colab": {
          "base_uri": "https://localhost:8080/"
        },
        "id": "sy-MCYkmINwM",
        "outputId": "25231f22-c5d6-47bb-948d-03c444dc3094"
      },
      "outputs": [
        {
          "output_type": "stream",
          "name": "stdout",
          "text": [
            "   FlightNumber  RecentDelays              Airline      From         To\n",
            "0         10045      [23, 47]               KLM(!)    London      Paris\n",
            "1         10055            []    <Air France> (12)    Madrid      Milan\n",
            "2         10065  [24, 43, 87]  (British Airways. )    London  Stockholm\n",
            "3         10075          [13]       12. Air France  Budapest      Paris\n",
            "4         10085      [67, 32]          \"Swiss Air\"  Brussels     London\n"
          ]
        }
      ],
      "source": [
        "df = df.drop('From_To', axis=1)\n",
        "df = pd.concat([df, temp_df], axis=1)\n",
        "print(df)"
      ]
    },
    {
      "cell_type": "markdown",
      "metadata": {
        "id": "laRIXG2GINwM"
      },
      "source": [
        "**42**. In the Airline column, you can see some extra puctuation and symbols have appeared around the airline names. Pull out just the airline name. E.g. `'(British Airways. )'` should become `'British Airways'`."
      ]
    },
    {
      "cell_type": "code",
      "execution_count": 100,
      "metadata": {
        "collapsed": true,
        "id": "EA7Xw0OeINwM"
      },
      "outputs": [],
      "source": [
        "import re\n",
        "def extract_airline(name):\n",
        "  return re.sub('a-zA-Z/s', '', name)\n",
        "df['Airline Name'] = df['Airline'].apply(extract_airline)"
      ]
    },
    {
      "cell_type": "markdown",
      "metadata": {
        "id": "oHQ2yAlxINwM"
      },
      "source": [
        "**43**. In the RecentDelays column, the values have been entered into the DataFrame as a list. We would like each first value in its own column, each second value in its own column, and so on. If there isn't an Nth value, the value should be NaN.\n",
        "\n",
        "Expand the Series of lists into a DataFrame named `delays`, rename the columns `delay_1`, `delay_2`, etc. and replace the unwanted RecentDelays column in `df` with `delays`."
      ]
    },
    {
      "cell_type": "code",
      "execution_count": 101,
      "metadata": {
        "collapsed": true,
        "colab": {
          "base_uri": "https://localhost:8080/"
        },
        "id": "MaksG1xRINwM",
        "outputId": "a48ebcfe-9211-4235-c553-3ebb27f6ebf0"
      },
      "outputs": [
        {
          "output_type": "stream",
          "name": "stdout",
          "text": [
            "   FlightNumber              Airline      From         To  \\\n",
            "0         10045               KLM(!)    London      Paris   \n",
            "1         10055    <Air France> (12)    Madrid      Milan   \n",
            "2         10065  (British Airways. )    London  Stockholm   \n",
            "3         10075       12. Air France  Budapest      Paris   \n",
            "4         10085          \"Swiss Air\"  Brussels     London   \n",
            "\n",
            "          Airline Name  delay_1  delay_2  delay_3  \n",
            "0               KLM(!)     23.0     47.0      NaN  \n",
            "1    <Air France> (12)      NaN      NaN      NaN  \n",
            "2  (British Airways. )     24.0     43.0     87.0  \n",
            "3       12. Air France     13.0      NaN      NaN  \n",
            "4          \"Swiss Air\"     67.0     32.0      NaN  \n"
          ]
        },
        {
          "output_type": "stream",
          "name": "stderr",
          "text": [
            "<ipython-input-101-6c49cf1c8c45>:1: FutureWarning: The default dtype for empty Series will be 'object' instead of 'float64' in a future version. Specify a dtype explicitly to silence this warning.\n",
            "  delays = df['RecentDelays'].apply(lambda x: pd.Series([i for i in x]))\n"
          ]
        }
      ],
      "source": [
        "delays = df['RecentDelays'].apply(lambda x: pd.Series([i for i in x]))\n",
        "delays = delays.rename(columns=lambda x: 'delay_' + str(x+1))\n",
        "df = pd.concat([df.drop('RecentDelays', axis=1), delays], axis=1)\n",
        "print(df)"
      ]
    },
    {
      "cell_type": "markdown",
      "metadata": {
        "id": "IeOT1kKtINwN"
      },
      "source": [
        "The DataFrame should look much better now."
      ]
    },
    {
      "cell_type": "markdown",
      "metadata": {
        "collapsed": true,
        "id": "ENkauz_oINwN"
      },
      "source": [
        "## Using MultiIndexes\n",
        "\n",
        "### Go beyond flat DataFrames with additional index levels\n",
        "\n",
        "Difficulty: *medium*\n",
        "\n",
        "Previous exercises have seen us analysing data from DataFrames equipped with a single index level. However, pandas also gives you the possibilty of indexing your data using *multiple* levels. This is very much like adding new dimensions to a Series or a DataFrame. For example, a Series is 1D, but by using a MultiIndex with 2 levels we gain of much the same functionality as a 2D DataFrame.\n",
        "\n",
        "The set of puzzles below explores how you might use multiple index levels to enhance data analysis.\n",
        "\n",
        "To warm up, we'll look make a Series with two index levels. "
      ]
    },
    {
      "cell_type": "markdown",
      "metadata": {
        "id": "4okxweszINwN"
      },
      "source": [
        "**44**. Given the lists `letters = ['A', 'B', 'C']` and `numbers = list(range(10))`, construct a MultiIndex object from the product of the two lists. Use it to index a Series of random numbers. Call this Series `s`."
      ]
    },
    {
      "cell_type": "code",
      "execution_count": 102,
      "metadata": {
        "collapsed": true,
        "colab": {
          "base_uri": "https://localhost:8080/"
        },
        "id": "bbQbkPUFINwN",
        "outputId": "9eb467d1-5969-4184-d17d-0ca6bd12f321"
      },
      "outputs": [
        {
          "output_type": "stream",
          "name": "stdout",
          "text": [
            "Letters  Numbers\n",
            "A        0         -0.111076\n",
            "         1         -0.318683\n",
            "         2         -1.014256\n",
            "         3          0.042009\n",
            "         4          1.012617\n",
            "         5         -0.872382\n",
            "         6          0.440592\n",
            "         7         -0.334437\n",
            "         8          0.911264\n",
            "         9         -1.214646\n",
            "B        0         -0.414690\n",
            "         1          1.754646\n",
            "         2         -2.185709\n",
            "         3          0.446151\n",
            "         4         -1.032497\n",
            "         5          0.355636\n",
            "         6          1.473385\n",
            "         7         -0.107165\n",
            "         8         -0.358707\n",
            "         9         -0.683905\n",
            "C        0          0.717433\n",
            "         1         -0.250358\n",
            "         2          1.334582\n",
            "         3         -0.146349\n",
            "         4          0.744276\n",
            "         5          0.415686\n",
            "         6          2.227109\n",
            "         7         -0.885113\n",
            "         8          0.933672\n",
            "         9          1.097873\n",
            "dtype: float64\n"
          ]
        }
      ],
      "source": [
        "letters = ['A', 'B', 'C']\n",
        "numbers = list(range(10))\n",
        "index = pd.MultiIndex.from_product([letters,numbers], names = ['Letters','Numbers'])\n",
        "s = pd.Series(np.random.randn(30), index=index)\n",
        "print(s)"
      ]
    },
    {
      "cell_type": "markdown",
      "metadata": {
        "id": "EJn9fDzFINwO"
      },
      "source": [
        "**45.** Check the index of `s` is lexicographically sorted (this is a necessary proprty for indexing to work correctly with a MultiIndex)."
      ]
    },
    {
      "cell_type": "code",
      "execution_count": 103,
      "metadata": {
        "collapsed": true,
        "colab": {
          "base_uri": "https://localhost:8080/"
        },
        "id": "OzTNkH0uINwO",
        "outputId": "2bb9c2eb-0f3c-4e10-89e4-7c15dd7b6fca"
      },
      "outputs": [
        {
          "output_type": "stream",
          "name": "stdout",
          "text": [
            "True\n"
          ]
        },
        {
          "output_type": "stream",
          "name": "stderr",
          "text": [
            "<ipython-input-103-bcb3282e129b>:1: FutureWarning: MultiIndex.is_lexsorted is deprecated as a public function, users should use MultiIndex.is_monotonic_increasing instead.\n",
            "  print(s.index.is_lexsorted())\n"
          ]
        }
      ],
      "source": [
        "print(s.index.is_lexsorted())"
      ]
    },
    {
      "cell_type": "markdown",
      "metadata": {
        "id": "ZluNUMUuINwP"
      },
      "source": [
        "**46**. Select the labels `1`, `3` and `6` from the second level of the MultiIndexed Series."
      ]
    },
    {
      "cell_type": "code",
      "execution_count": 104,
      "metadata": {
        "collapsed": true,
        "colab": {
          "base_uri": "https://localhost:8080/"
        },
        "id": "OhZ1vlTJINwP",
        "outputId": "0120661b-1e98-4a59-8cce-f924ddc3b867"
      },
      "outputs": [
        {
          "output_type": "execute_result",
          "data": {
            "text/plain": [
              "Letters  Numbers\n",
              "A        1         -0.318683\n",
              "         3          0.042009\n",
              "         6          0.440592\n",
              "B        1          1.754646\n",
              "         3          0.446151\n",
              "         6          1.473385\n",
              "C        1         -0.250358\n",
              "         3         -0.146349\n",
              "         6          2.227109\n",
              "dtype: float64"
            ]
          },
          "metadata": {},
          "execution_count": 104
        }
      ],
      "source": [
        "s.loc[:,[1,3,6]]"
      ]
    },
    {
      "cell_type": "markdown",
      "metadata": {
        "id": "wF0xFmdPINwP"
      },
      "source": [
        "**47**. Slice the Series `s`; slice up to label 'B' for the first level and from label 5 onwards for the second level."
      ]
    },
    {
      "cell_type": "code",
      "execution_count": 105,
      "metadata": {
        "collapsed": true,
        "colab": {
          "base_uri": "https://localhost:8080/"
        },
        "id": "mQ3ph1jtINwP",
        "outputId": "b5b4916f-78ed-451b-80f2-dfc413d786cd"
      },
      "outputs": [
        {
          "output_type": "execute_result",
          "data": {
            "text/plain": [
              "Letters  Numbers\n",
              "A        5         -0.872382\n",
              "         6          0.440592\n",
              "         7         -0.334437\n",
              "         8          0.911264\n",
              "         9         -1.214646\n",
              "B        5          0.355636\n",
              "         6          1.473385\n",
              "         7         -0.107165\n",
              "         8         -0.358707\n",
              "         9         -0.683905\n",
              "dtype: float64"
            ]
          },
          "metadata": {},
          "execution_count": 105
        }
      ],
      "source": [
        "s.loc[:'B', 5:]"
      ]
    },
    {
      "cell_type": "markdown",
      "metadata": {
        "id": "_WanPCIBINwQ"
      },
      "source": [
        "**48**. Sum the values in `s` for each label in the first level (you should have Series giving you a total for labels A, B and C)."
      ]
    },
    {
      "cell_type": "code",
      "execution_count": 106,
      "metadata": {
        "collapsed": true,
        "colab": {
          "base_uri": "https://localhost:8080/"
        },
        "id": "2rrVtKibINwQ",
        "outputId": "fd1a46c0-5a8d-44a5-de15-006fa446a917"
      },
      "outputs": [
        {
          "output_type": "stream",
          "name": "stdout",
          "text": [
            "Letters\n",
            "A   -1.458997\n",
            "B   -0.752856\n",
            "C    6.188812\n",
            "dtype: float64\n"
          ]
        }
      ],
      "source": [
        "sum_by_first_level = s.groupby(level=0).sum()\n",
        "print(sum_by_first_level)"
      ]
    },
    {
      "cell_type": "markdown",
      "metadata": {
        "id": "uQYjf62xINwQ"
      },
      "source": [
        "**49**. Suppose that `sum()` (and other methods) did not accept a `level` keyword argument. How else could you perform the equivalent of `s.sum(level=1)`?"
      ]
    },
    {
      "cell_type": "code",
      "execution_count": 107,
      "metadata": {
        "collapsed": true,
        "colab": {
          "base_uri": "https://localhost:8080/"
        },
        "id": "79kutOGvINwQ",
        "outputId": "e186ec43-f21e-433f-fe42-ec0c14e9452c"
      },
      "outputs": [
        {
          "output_type": "execute_result",
          "data": {
            "text/plain": [
              "Numbers\n",
              "0    0.191668\n",
              "1    1.185605\n",
              "2   -1.865382\n",
              "3    0.341810\n",
              "4    0.724396\n",
              "5   -0.101060\n",
              "6    4.141086\n",
              "7   -1.326715\n",
              "8    1.486229\n",
              "9   -0.800678\n",
              "dtype: float64"
            ]
          },
          "metadata": {},
          "execution_count": 107
        }
      ],
      "source": [
        "s.groupby(level=1).sum()"
      ]
    },
    {
      "cell_type": "markdown",
      "metadata": {
        "id": "2gwei6htINwQ"
      },
      "source": [
        "**50**. Exchange the levels of the MultiIndex so we have an index of the form (letters, numbers). Is this new Series properly lexsorted? If not, sort it."
      ]
    },
    {
      "cell_type": "code",
      "source": [
        "s_swapped = s.swaplevel()\n",
        "if not s_swapped.index.is_lexsorted():\n",
        "  s_swapped = s_swapped.sort_index()\n",
        "print(s_swapped)"
      ],
      "metadata": {
        "colab": {
          "base_uri": "https://localhost:8080/"
        },
        "id": "Uij1U4B-42PG",
        "outputId": "f38513e5-a2bf-4103-fd93-7f0e29d6c79a"
      },
      "execution_count": 108,
      "outputs": [
        {
          "output_type": "stream",
          "name": "stdout",
          "text": [
            "Numbers  Letters\n",
            "0        A         -0.111076\n",
            "         B         -0.414690\n",
            "         C          0.717433\n",
            "1        A         -0.318683\n",
            "         B          1.754646\n",
            "         C         -0.250358\n",
            "2        A         -1.014256\n",
            "         B         -2.185709\n",
            "         C          1.334582\n",
            "3        A          0.042009\n",
            "         B          0.446151\n",
            "         C         -0.146349\n",
            "4        A          1.012617\n",
            "         B         -1.032497\n",
            "         C          0.744276\n",
            "5        A         -0.872382\n",
            "         B          0.355636\n",
            "         C          0.415686\n",
            "6        A          0.440592\n",
            "         B          1.473385\n",
            "         C          2.227109\n",
            "7        A         -0.334437\n",
            "         B         -0.107165\n",
            "         C         -0.885113\n",
            "8        A          0.911264\n",
            "         B         -0.358707\n",
            "         C          0.933672\n",
            "9        A         -1.214646\n",
            "         B         -0.683905\n",
            "         C          1.097873\n",
            "dtype: float64\n"
          ]
        },
        {
          "output_type": "stream",
          "name": "stderr",
          "text": [
            "<ipython-input-108-e4aa82949c5e>:2: FutureWarning: MultiIndex.is_lexsorted is deprecated as a public function, users should use MultiIndex.is_monotonic_increasing instead.\n",
            "  if not s_swapped.index.is_lexsorted():\n"
          ]
        }
      ]
    },
    {
      "cell_type": "markdown",
      "metadata": {
        "id": "uDNQBEy8INwQ"
      },
      "source": [
        "## Minesweeper\n",
        "\n",
        "### Generate the numbers for safe squares in a Minesweeper grid\n",
        "\n",
        "Difficulty: *medium* to *hard*\n",
        "\n",
        "If you've ever used an older version of Windows, there's a good chance you've played with [Minesweeper](https://en.wikipedia.org/wiki/Minesweeper_(video_game). If you're not familiar with the game, imagine a grid of squares: some of these squares conceal a mine. If you click on a mine, you lose instantly. If you click on a safe square, you reveal a number telling you how many mines are found in the squares that are immediately adjacent. The aim of the game is to uncover all squares in the grid that do not contain a mine.\n",
        "\n",
        "In this section, we'll make a DataFrame that contains the necessary data for a game of Minesweeper: coordinates of the squares, whether the square contains a mine and the number of mines found on adjacent squares."
      ]
    },
    {
      "cell_type": "markdown",
      "metadata": {
        "id": "k7HCnI_EINwQ"
      },
      "source": [
        "**51**. Let's suppose we're playing Minesweeper on a 5 by 4 grid, i.e.\n",
        "```\n",
        "X = 5\n",
        "Y = 4\n",
        "```\n",
        "To begin, generate a DataFrame `df` with two columns, `'x'` and `'y'` containing every coordinate for this grid. That is, the DataFrame should start:\n",
        "```\n",
        "   x  y\n",
        "0  0  0\n",
        "1  0  1\n",
        "2  0  2\n",
        "```"
      ]
    },
    {
      "cell_type": "code",
      "execution_count": 109,
      "metadata": {
        "collapsed": true,
        "id": "iswK6k_2INwR"
      },
      "outputs": [],
      "source": [
        "X = 5\n",
        "Y = 4\n",
        "coordinates = [(x,y) for x in range(X) for y in range(Y)]\n",
        "df = pd.DataFrame(coordinates, columns=['x','y'])"
      ]
    },
    {
      "cell_type": "markdown",
      "metadata": {
        "id": "L5BqT7-iINwR"
      },
      "source": [
        "**52**. For this DataFrame `df`, create a new column of zeros (safe) and ones (mine). The probability of a mine occuring at each location should be 0.4."
      ]
    },
    {
      "cell_type": "code",
      "execution_count": 110,
      "metadata": {
        "collapsed": true,
        "colab": {
          "base_uri": "https://localhost:8080/"
        },
        "id": "w-zcYqSkINwR",
        "outputId": "dc9602b7-f08f-43e8-8a9f-896b85417e94"
      },
      "outputs": [
        {
          "output_type": "stream",
          "name": "stdout",
          "text": [
            "    x  y  mine\n",
            "0   0  0     1\n",
            "1   0  1     0\n",
            "2   0  2     0\n",
            "3   0  3     0\n",
            "4   1  0     1\n",
            "5   1  1     1\n",
            "6   1  2     0\n",
            "7   1  3     0\n",
            "8   2  0     0\n",
            "9   2  1     0\n",
            "10  2  2     0\n",
            "11  2  3     1\n",
            "12  3  0     0\n",
            "13  3  1     1\n",
            "14  3  2     1\n",
            "15  3  3     1\n",
            "16  4  0     0\n",
            "17  4  1     0\n",
            "18  4  2     0\n",
            "19  4  3     0\n"
          ]
        }
      ],
      "source": [
        "import itertools\n",
        "import numpy as np\n",
        "import pandas as pd\n",
        "X = 5\n",
        "Y = 4\n",
        "\n",
        "# create DataFrame with coordinates\n",
        "coords = list(itertools.product(range(X), range(Y)))\n",
        "df = pd.DataFrame(coords, columns=['x', 'y'])\n",
        "\n",
        "# create 'mine' column with specified probability\n",
        "df['mine'] = np.random.choice([0, 1], size=(X*Y,), p=[0.6, 0.4])\n",
        "\n",
        "# reshape 'mine' column to match grid shape\n",
        "#df['mine'] = df['mine'].values.reshape((X, Y))\n",
        "mines = np.random.choice([0, 1], size=X*Y, p=[0.6, 0.4])\n",
        "df['mine'] = mines.reshape((X, Y)).flatten()\n",
        "\n",
        "print(df)\n"
      ]
    },
    {
      "cell_type": "markdown",
      "metadata": {
        "id": "z81AE0l_INwR"
      },
      "source": [
        "**53**. Now create a new column for this DataFrame called `'adjacent'`. This column should contain the number of mines found on adjacent squares in the grid. \n",
        "\n",
        "(E.g. for the first row, which is the entry for the coordinate `(0, 0)`, count how many mines are found on the coordinates `(0, 1)`, `(1, 0)` and `(1, 1)`.)"
      ]
    },
    {
      "cell_type": "code",
      "execution_count": 56,
      "metadata": {
        "collapsed": true,
        "colab": {
          "base_uri": "https://localhost:8080/"
        },
        "id": "b3Rs8JN_INwR",
        "outputId": "2b14700f-c86d-4f7a-a224-2e70c14589b9"
      },
      "outputs": [
        {
          "output_type": "stream",
          "name": "stdout",
          "text": [
            "    x  y  mine  adjacent\n",
            "0   0  0     0       0.0\n",
            "1   1  0     0       0.0\n",
            "2   2  0     0       1.0\n",
            "3   3  0     1       NaN\n",
            "4   4  0     1       NaN\n",
            "5   0  1     0       1.0\n",
            "6   1  1     0       2.0\n",
            "7   2  1     0       4.0\n",
            "8   3  1     0       5.0\n",
            "9   4  1     1       NaN\n",
            "10  0  2     0       2.0\n",
            "11  1  2     1       NaN\n",
            "12  2  2     1       NaN\n",
            "13  3  2     1       NaN\n",
            "14  4  2     0       3.0\n",
            "15  0  3     0       2.0\n",
            "16  1  3     1       NaN\n",
            "17  2  3     1       NaN\n",
            "18  3  3     1       NaN\n",
            "19  4  3     0       2.0\n"
          ]
        }
      ],
      "source": [
        "X = 5\n",
        "Y = 4\n",
        "\n",
        "# create DataFrame with coordinates\n",
        "x_coords, y_coords = np.meshgrid(range(X), range(Y))\n",
        "df = pd.DataFrame({'x': x_coords.ravel(), 'y': y_coords.ravel()})\n",
        "df['mine'] = np.random.choice([0, 1], size=(X*Y,), p=[0.6, 0.4])\n",
        "\n",
        "def count_adjacent_mines(x, y, df):\n",
        "    \"\"\"\n",
        "    Count the number of mines in adjacent cells to the (x, y) coordinate.\n",
        "    If the current cell contains a mine, return np.nan instead of the count.\n",
        "    \"\"\"\n",
        "    # Define the coordinates of the adjacent cells\n",
        "    adj_coords = [(x-1, y-1), (x-1, y), (x-1, y+1), (x, y-1), (x, y+1), (x+1, y-1), (x+1, y), (x+1, y+1)]\n",
        "    \n",
        "    # Count the number of mines in adjacent cells\n",
        "    count = 0\n",
        "    for i, j in adj_coords:\n",
        "        if (i >= 0 and i <= df['x'].max()) and (j >= 0 and j <= df['y'].max()):\n",
        "            count += df.loc[(df['x'] == i) & (df['y'] == j), 'mine'].item()\n",
        "    \n",
        "    if df.loc[(df['x'] == x) & (df['y'] == y), 'mine'].item():\n",
        "        return np.nan\n",
        "    else:\n",
        "        return count\n",
        "\n",
        "df['adjacent'] = df.apply(lambda row: count_adjacent_mines(row['x'], row['y'], df), axis=1)\n",
        "\n",
        "print(df)\n"
      ]
    },
    {
      "cell_type": "markdown",
      "metadata": {
        "id": "O7TLO9dvINwR"
      },
      "source": [
        "**54**. For rows of the DataFrame that contain a mine, set the value in the `'adjacent'` column to NaN."
      ]
    },
    {
      "cell_type": "code",
      "execution_count": 111,
      "metadata": {
        "collapsed": true,
        "colab": {
          "base_uri": "https://localhost:8080/"
        },
        "id": "OuQnFC1eINwR",
        "outputId": "6faf06c3-700d-4be2-857e-4173319a3c20"
      },
      "outputs": [
        {
          "output_type": "stream",
          "name": "stdout",
          "text": [
            "    x  y  mine  adjacent\n",
            "0   0  0     0       2.0\n",
            "1   1  0     1       NaN\n",
            "2   2  0     1       NaN\n",
            "3   3  0     1       NaN\n",
            "4   4  0     0       3.0\n",
            "5   0  1     1       NaN\n",
            "6   1  1     0       5.0\n",
            "7   2  1     0       5.0\n",
            "8   3  1     1       NaN\n",
            "9   4  1     1       NaN\n",
            "10  0  2     1       NaN\n",
            "11  1  2     0       4.0\n",
            "12  2  2     1       NaN\n",
            "13  3  2     0       5.0\n",
            "14  4  2     0       4.0\n",
            "15  0  3     0       2.0\n",
            "16  1  3     1       NaN\n",
            "17  2  3     0       3.0\n",
            "18  3  3     1       NaN\n",
            "19  4  3     1       NaN\n"
          ]
        }
      ],
      "source": [
        "\n",
        "X = 5\n",
        "Y = 4\n",
        "\n",
        "# create DataFrame with coordinates\n",
        "x_coords, y_coords = np.meshgrid(range(X), range(Y))\n",
        "df = pd.DataFrame({'x': x_coords.ravel(), 'y': y_coords.ravel()})\n",
        "df['mine'] = np.random.choice([0, 1], size=(X*Y,), p=[0.6, 0.4])\n",
        "\n",
        "def count_adjacent_mines(x, y, df):\n",
        "    \"\"\"\n",
        "    Count the number of mines in adjacent cells to the (x, y) coordinate.\n",
        "    If the current cell contains a mine, return np.nan instead of the count.\n",
        "    \"\"\"\n",
        "    # Define the coordinates of the adjacent cells\n",
        "    adj_coords = [(x-1, y-1), (x-1, y), (x-1, y+1), (x, y-1), (x, y+1), (x+1, y-1), (x+1, y), (x+1, y+1)]\n",
        "    \n",
        "    # Count the number of mines in adjacent cells\n",
        "    count = 0\n",
        "    for i, j in adj_coords:\n",
        "        if (i >= 0 and i <= df['x'].max()) and (j >= 0 and j <= df['y'].max()):\n",
        "            count += df.loc[(df['x'] == i) & (df['y'] == j), 'mine'].item()\n",
        "    \n",
        "    if df.loc[(df['x'] == x) & (df['y'] == y), 'mine'].item():\n",
        "        return np.nan\n",
        "    else:\n",
        "        return count\n",
        "\n",
        "df['adjacent'] = df.apply(lambda row: count_adjacent_mines(row['x'], row['y'], df), axis=1)\n",
        "\n",
        "print(df)\n"
      ]
    },
    {
      "cell_type": "markdown",
      "metadata": {
        "id": "FpyrA1-EINwS"
      },
      "source": [
        "**55**. Finally, convert the DataFrame to grid of the adjacent mine counts: columns are the `x` coordinate, rows are the `y` coordinate."
      ]
    },
    {
      "cell_type": "code",
      "execution_count": 112,
      "metadata": {
        "collapsed": true,
        "colab": {
          "base_uri": "https://localhost:8080/"
        },
        "id": "vFrV9JZJINwS",
        "outputId": "a797875e-552b-4422-b295-676575d473c5"
      },
      "outputs": [
        {
          "output_type": "stream",
          "name": "stdout",
          "text": [
            "x    0    1    2    3    4\n",
            "y                         \n",
            "0  2.0  NaN  NaN  NaN  3.0\n",
            "1  NaN  5.0  5.0  NaN  NaN\n",
            "2  NaN  4.0  NaN  5.0  4.0\n",
            "3  2.0  NaN  3.0  NaN  NaN\n"
          ]
        }
      ],
      "source": [
        "grid = df.pivot(index='y', columns='x', values='adjacent')\n",
        "print(grid)\n"
      ]
    },
    {
      "cell_type": "markdown",
      "metadata": {
        "id": "JbWbXXWHINwS"
      },
      "source": [
        "## Plotting\n",
        "\n",
        "### Visualize trends and patterns in data\n",
        "\n",
        "Difficulty: *medium*\n",
        "\n",
        "To really get a good understanding of the data contained in your DataFrame, it is often essential to create plots: if you're lucky, trends and anomalies will jump right out at you. This functionality is baked into pandas and the puzzles below explore some of what's possible with the library.\n",
        "\n",
        "**56.** Pandas is highly integrated with the plotting library matplotlib, and makes plotting DataFrames very user-friendly! Plotting in a notebook environment usually makes use of the following boilerplate:\n",
        "\n",
        "```python\n",
        "import matplotlib.pyplot as plt\n",
        "%matplotlib inline\n",
        "plt.style.use('ggplot')\n",
        "```\n",
        "\n",
        "matplotlib is the plotting library which pandas' plotting functionality is built upon, and it is usually aliased to ```plt```.\n",
        "\n",
        "```%matplotlib inline``` tells the notebook to show plots inline, instead of creating them in a separate window.  \n",
        "\n",
        "```plt.style.use('ggplot')``` is a style theme that most people find agreeable, based upon the styling of R's ggplot package.\n",
        "\n",
        "For starters, make a scatter plot of this random data, but use black X's instead of the default markers. \n",
        "\n",
        "```df = pd.DataFrame({\"xs\":[1,5,2,8,1], \"ys\":[4,2,1,9,6]})```\n",
        "\n",
        "Consult the [documentation](https://pandas.pydata.org/pandas-docs/stable/generated/pandas.DataFrame.plot.html) if you get stuck!"
      ]
    },
    {
      "cell_type": "code",
      "execution_count": 113,
      "metadata": {
        "collapsed": true,
        "colab": {
          "base_uri": "https://localhost:8080/",
          "height": 477
        },
        "id": "2bIBnYIQINwS",
        "outputId": "cb99ec83-0c76-4ebf-c512-27c5bbcf2eda"
      },
      "outputs": [
        {
          "output_type": "display_data",
          "data": {
            "text/plain": [
              "<Figure size 640x480 with 1 Axes>"
            ],
            "image/png": "[encoded data removed]"
          },
          "metadata": {}
        }
      ],
      "source": [
        "import matplotlib.pyplot as plt\n",
        "%matplotlib inline\n",
        "plt.style.use('ggplot')\n",
        "df = pd.DataFrame({\"xs\":[1,5,2,8,1], \"ys\":[4,2,1,9,6]})\n",
        "plt.scatter(df['xs'], df['ys'], marker = 's', color=\"black\")\n",
        "plt.xlabel('x')\n",
        "plt.ylabel('y')\n",
        "plt.title('scatter plot')\n",
        "plt.show()"
      ]
    },
    {
      "cell_type": "markdown",
      "metadata": {
        "id": "U1rzakL7INwS"
      },
      "source": [
        "**57.** Columns in your DataFrame can also be used to modify colors and sizes.  Bill has been keeping track of his performance at work over time, as well as how good he was feeling that day, and whether he had a cup of coffee in the morning.  Make a plot which incorporates all four features of this DataFrame.\n",
        "\n",
        "(Hint:  If you're having trouble seeing the plot, try multiplying the Series which you choose to represent size by 10 or more)\n",
        "\n",
        "*The chart doesn't have to be pretty: this isn't a course in data viz!*\n",
        "\n",
        "```\n",
        "df = pd.DataFrame({\"productivity\":[5,2,3,1,4,5,6,7,8,3,4,8,9],\n",
        "                   \"hours_in\"    :[1,9,6,5,3,9,2,9,1,7,4,2,2],\n",
        "                   \"happiness\"   :[2,1,3,2,3,1,2,3,1,2,2,1,3],\n",
        "                   \"caffienated\" :[0,0,1,1,0,0,0,0,1,1,0,1,0]})\n",
        "```"
      ]
    },
    {
      "cell_type": "code",
      "execution_count": 114,
      "metadata": {
        "collapsed": true,
        "colab": {
          "base_uri": "https://localhost:8080/",
          "height": 477
        },
        "id": "SqKvsUCUINwS",
        "outputId": "f90e5e4e-ef9e-41c7-ca5c-531ea1ec8ecc"
      },
      "outputs": [
        {
          "output_type": "display_data",
          "data": {
            "text/plain": [
              "<Figure size 640x480 with 1 Axes>"
            ],
            "image/png": "[encoded data removed]"
          },
          "metadata": {}
        }
      ],
      "source": [
        "df = pd.DataFrame({\"productivity\":[5,2,3,1,4,5,6,7,8,3,4,8,9],\n",
        "                   \"hours_in\"    :[1,9,6,5,3,9,2,9,1,7,4,2,2],\n",
        "                   \"happiness\"   :[2,1,3,2,3,1,2,3,1,2,2,1,3],\n",
        "                   \"caffienated\" :[0,0,1,1,0,0,0,0,1,1,0,1,0]})\n",
        "coffee_cmap = {0:'lightgray',1:'brown'}\n",
        "productivity_size = df['productivity']*10\n",
        "productivity_marker = 'X'\n",
        "plt.scatter(df['hours_in'], df['happiness'], c=df['caffienated'].map(coffee_cmap), s=productivity_size, marker=productivity_marker)\n",
        "plt.xlabel('Hours Worked')\n",
        "plt.ylabel('Happiness')\n",
        "plt.title('Bill\\'s Work Performance')\n",
        "plt.show()"
      ]
    },
    {
      "cell_type": "markdown",
      "metadata": {
        "id": "vWmAtqoXINwS"
      },
      "source": [
        "**58.**  What if we want to plot multiple things?  Pandas allows you to pass in a matplotlib *Axis* object for plots, and plots will also return an Axis object.\n",
        "\n",
        "Make a bar plot of monthly revenue with a line plot of monthly advertising spending (numbers in millions)\n",
        "\n",
        "```\n",
        "df = pd.DataFrame({\"revenue\":[57,68,63,71,72,90,80,62,59,51,47,52],\n",
        "                   \"advertising\":[2.1,1.9,2.7,3.0,3.6,3.2,2.7,2.4,1.8,1.6,1.3,1.9],\n",
        "                   \"month\":range(12)\n",
        "                  })\n",
        "```"
      ]
    },
    {
      "cell_type": "code",
      "execution_count": 117,
      "metadata": {
        "collapsed": true,
        "colab": {
          "base_uri": "https://localhost:8080/",
          "height": 477
        },
        "id": "f5uof7a6INwT",
        "outputId": "d40775ea-6af1-4d1b-bd43-ad918d97d1d7"
      },
      "outputs": [
        {
          "output_type": "display_data",
          "data": {
            "text/plain": [
              "<Figure size 640x480 with 1 Axes>"
            ],
            "image/png": "[encoded data removed]"
          },
          "metadata": {}
        }
      ],
      "source": [
        "df = pd.DataFrame({\"revenue\":[57,68,63,71,72,90,80,62,59,51,47,52],\n",
        "                   \"advertising\":[2.1,1.9,2.7,3.0,3.6,3.2,2.7,2.4,1.8,1.6,1.3,1.9],\n",
        "                   \"month\":range(12)\n",
        "                  })\n",
        "fig, ax = plt.subplots()\n",
        "df.plot(kind='bar', x='month', y='revenue', ax=ax, color='blue')\n",
        "df.plot(kind='line', x='month', y='advertising',ax=ax, color='red', marker='o')\n",
        "ax.set_xlabel('Month')\n",
        "ax.set_ylabel('Millions of dollars')\n",
        "ax.set_title('Monthly Revenue and Advertising Spending')\n",
        "plt.show()"
      ]
    },
    {
      "cell_type": "markdown",
      "metadata": {
        "id": "YtJVp1ouINwT"
      },
      "source": [
        "Now we're finally ready to create a candlestick chart, which is a very common tool used to analyze stock price data.  A candlestick chart shows the opening, closing, highest, and lowest price for a stock during a time window.  The color of the \"candle\" (the thick part of the bar) is green if the stock closed above its opening price, or red if below.\n",
        "\n",
        "![Candlestick Example](img/candle.jpg)\n",
        "\n",
        "This was initially designed to be a pandas plotting challenge, but it just so happens that this type of plot is just not feasible using pandas' methods.  If you are unfamiliar with matplotlib, we have provided a function that will plot the chart for you so long as you can use pandas to get the data into the correct format.\n",
        "\n",
        "Your first step should be to get the data in the correct format using pandas' time-series grouping function.  We would like each candle to represent an hour's worth of data.  You can write your own aggregation function which returns the open/high/low/close, but pandas has a built-in which also does this."
      ]
    },
    {
      "cell_type": "markdown",
      "metadata": {
        "id": "sp_QYlKWINwU"
      },
      "source": [
        "The below cell contains helper functions.  Call ```day_stock_data()``` to generate a DataFrame containing the prices a hypothetical stock sold for, and the time the sale occurred.  Call ```plot_candlestick(df)``` on your properly aggregated and formatted stock data to print the candlestick chart."
      ]
    },
    {
      "cell_type": "code",
      "execution_count": 118,
      "metadata": {
        "collapsed": true,
        "id": "uLGdLgI0INwU"
      },
      "outputs": [],
      "source": [
        "import numpy as np\n",
        "def float_to_time(x):\n",
        "    return str(int(x)) + \":\" + str(int(x%1 * 60)).zfill(2) + \":\" + str(int(x*60 % 1 * 60)).zfill(2)\n",
        "\n",
        "def day_stock_data():\n",
        "    #NYSE is open from 9:30 to 4:00\n",
        "    time = 9.5\n",
        "    price = 100\n",
        "    results = [(float_to_time(time), price)]\n",
        "    while time < 16:\n",
        "        elapsed = np.random.exponential(.001)\n",
        "        time += elapsed\n",
        "        if time > 16:\n",
        "            break\n",
        "        price_diff = np.random.uniform(.999, 1.001)\n",
        "        price *= price_diff\n",
        "        results.append((float_to_time(time), price))\n",
        "    \n",
        "    \n",
        "    df = pd.DataFrame(results, columns = ['time','price'])\n",
        "    df.time = pd.to_datetime(df.time)\n",
        "    return df\n",
        "\n",
        "#Don't read me unless you get stuck!\n",
        "def plot_candlestick(agg):\n",
        "    \"\"\"\n",
        "    agg is a DataFrame which has a DatetimeIndex and five columns: [\"open\",\"high\",\"low\",\"close\",\"color\"]\n",
        "    \"\"\"\n",
        "    fig, ax = plt.subplots()\n",
        "    for time in agg.index:\n",
        "        ax.plot([time.hour] * 2, agg.loc[time, [\"high\",\"low\"]].values, color = \"black\")\n",
        "        ax.plot([time.hour] * 2, agg.loc[time, [\"open\",\"close\"]].values, color = agg.loc[time, \"color\"], linewidth = 10)\n",
        "\n",
        "    ax.set_xlim((8,16))\n",
        "    ax.set_ylabel(\"Price\")\n",
        "    ax.set_xlabel(\"Hour\")\n",
        "    ax.set_title(\"OHLC of Stock Value During Trading Day\")\n",
        "    plt.show()"
      ]
    },
    {
      "cell_type": "markdown",
      "metadata": {
        "id": "NumfqR8ZINwV"
      },
      "source": [
        "**59.** Generate a day's worth of random stock data, and aggregate / reformat it so that it has hourly summaries of the opening, highest, lowest, and closing prices"
      ]
    },
    {
      "cell_type": "code",
      "execution_count": 119,
      "metadata": {
        "collapsed": true,
        "colab": {
          "base_uri": "https://localhost:8080/"
        },
        "id": "Umlm0VaCINwV",
        "outputId": "4d14367c-52d5-4db2-d1f2-4d6f242ab033"
      },
      "outputs": [
        {
          "output_type": "stream",
          "name": "stdout",
          "text": [
            "                           open        high        low       close  color\n",
            "hour                                                                     \n",
            "2023-04-18 09:00:00  100.000000  100.844437  99.290177   99.445117    red\n",
            "2023-04-18 10:00:00   99.494423  100.494181  99.134204  100.035861  green\n",
            "2023-04-18 11:00:00   99.969658  102.888016  99.405057  102.795379  green\n",
            "2023-04-18 12:00:00  102.758594  102.830763  99.479172   99.567632    red\n",
            "2023-04-18 13:00:00   99.572934  101.041110  98.899016  100.087916  green\n",
            "2023-04-18 14:00:00  100.185481  100.604220  97.769259   98.494047    red\n",
            "2023-04-18 15:00:00   98.400836  100.936958  98.320278  100.320749  green\n"
          ]
        }
      ],
      "source": [
        "stock_data = day_stock_data()\n",
        "stock_data['hour'] = stock_data['time'].dt.floor('H')\n",
        "hourly_summary = stock_data.groupby('hour')['price'].agg(['first','max','min','last'])\n",
        "hourly_summary = hourly_summary.rename(columns={'first':'open', 'max':'high', 'min':'low', 'last':'close'})\n",
        "hourly_summary['color'] = np.where(hourly_summary['close'] >= hourly_summary['open'], 'green', 'red')\n",
        "print(hourly_summary)"
      ]
    },
    {
      "cell_type": "markdown",
      "metadata": {
        "id": "YkI7mWJaINwV"
      },
      "source": [
        "**60.** Now that you have your properly-formatted data, try to plot it yourself as a candlestick chart.  Use the ```plot_candlestick(df)``` function above, or matplotlib's [```plot``` documentation](https://matplotlib.org/api/_as_gen/matplotlib.axes.Axes.plot.html) if you get stuck."
      ]
    },
    {
      "cell_type": "code",
      "execution_count": 122,
      "metadata": {
        "collapsed": true,
        "colab": {
          "base_uri": "https://localhost:8080/",
          "height": 477
        },
        "id": "cPMAUxG-INwV",
        "outputId": "560ea183-bc96-4a03-a5f4-09958221aa10"
      },
      "outputs": [
        {
          "output_type": "display_data",
          "data": {
            "text/plain": [
              "<Figure size 640x480 with 1 Axes>"
            ],
            "image/png": "[encoded data removed]"
          },
          "metadata": {}
        }
      ],
      "source": [
        "plot_candlestick(hourly_summary)\n"
      ]
    },
    {
      "cell_type": "markdown",
      "metadata": {
        "id": "VOvAc_TYINwW"
      },
      "source": []
    }
  ],
  "metadata": {
    "kernelspec": {
      "display_name": "Python 3",
      "language": "python",
      "name": "python3"
    },
    "language_info": {
      "codemirror_mode": {
        "name": "ipython",
        "version": 3
      },
      "file_extension": ".py",
      "mimetype": "text/x-python",
      "name": "python",
      "nbconvert_exporter": "python",
      "pygments_lexer": "ipython3",
      "version": "3.8.3"
    },
    "colab": {
      "provenance": [],
      "include_colab_link": true
    }
  },
  "nbformat": 4,
  "nbformat_minor": 0
}